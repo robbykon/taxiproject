{
 "cells": [
  {
   "cell_type": "markdown",
   "metadata": {},
   "source": [
    "# Group 8 Final: Chicago Taxi Data"
   ]
  },
  {
   "cell_type": "markdown",
   "metadata": {},
   "source": [
    "#### Teammate 1, Teammate 2, Teammate 3, Robby Konrath, Teammate 5"
   ]
  },
  {
   "cell_type": "code",
   "execution_count": 1,
   "metadata": {},
   "outputs": [],
   "source": [
    "import pandas as pd\n",
    "import numpy as np\n",
    "import seaborn as sns\n",
    "import matplotlib.pyplot as plt\n",
    "from sklearn.cluster import KMeans\n",
    "import datetime\n",
    "import json\n",
    "%matplotlib inline\n",
    "from IPython.core.interactiveshell import InteractiveShell\n",
    "InteractiveShell.ast_node_interactivity = \"all\""
   ]
  },
  {
   "cell_type": "code",
   "execution_count": 2,
   "metadata": {},
   "outputs": [],
   "source": [
    "df=pd.read_csv(\"chicago_taxi_trips_2016_01.csv\")\n",
    "df2=pd.read_csv(\"chicago_taxi_trips_2016_02.csv\")\n",
    "df3=pd.read_csv(\"chicago_taxi_trips_2016_03.csv\")\n",
    "df4=pd.read_csv(\"chicago_taxi_trips_2016_04.csv\")\n",
    "df5=pd.read_csv(\"chicago_taxi_trips_2016_05.csv\")\n",
    "df6=pd.read_csv(\"chicago_taxi_trips_2016_06.csv\")\n",
    "df7=pd.read_csv(\"chicago_taxi_trips_2016_07.csv\")\n",
    "df8=pd.read_csv(\"chicago_taxi_trips_2016_08.csv\")\n",
    "df9=pd.read_csv(\"chicago_taxi_trips_2016_09.csv\")\n",
    "df10=pd.read_csv(\"chicago_taxi_trips_2016_10.csv\")\n",
    "df11=pd.read_csv(\"chicago_taxi_trips_2016_11.csv\")\n",
    "df12=pd.read_csv(\"chicago_taxi_trips_2016_12.csv\")\n",
    "#data set came with twelve months so opened all \n",
    "#takes a couple minutes"
   ]
  },
  {
   "cell_type": "code",
   "execution_count": 3,
   "metadata": {},
   "outputs": [],
   "source": [
    "#DON'T RUN\n",
    "df=df.append(df2,ignore_index=True)\n",
    "df=df.append(df3,ignore_index=True)\n",
    "df=df.append(df4,ignore_index=True)\n",
    "df=df.append(df5,ignore_index=True)\n",
    "df=df.append(df6,ignore_index=True)\n",
    "df=df.append(df7,ignore_index=True)\n",
    "df=df.append(df8,ignore_index=True)\n",
    "df=df.append(df9,ignore_index=True)\n",
    "df=df.append(df10,ignore_index=True)\n",
    "df=df.append(df11,ignore_index=True)\n",
    "df=df.append(df12,ignore_index=True)\n",
    "#added them all together\n",
    "#also takes a couple minutes\n",
    "#DON\"T RUN unless you really want to wait a while and slow your computer for a long time, just open the clean later"
   ]
  },
  {
   "cell_type": "code",
   "execution_count": 4,
   "metadata": {},
   "outputs": [],
   "source": [
    "newdf=df.sample(frac=.1,random_state=0)\n",
    "#took a 10% sample size because 20 million rows is too slow to work with in Juypter, but 2 million is fast enough"
   ]
  },
  {
   "cell_type": "code",
   "execution_count": 10,
   "metadata": {},
   "outputs": [],
   "source": [
    "newdf=pd.read_csv('sampledatabeforeclean.csv')\n",
    "#if you don't want to run the whole append and want the date before cleaning"
   ]
  },
  {
   "cell_type": "markdown",
   "metadata": {},
   "source": [
    "## Data Description"
   ]
  },
  {
   "cell_type": "markdown",
   "metadata": {},
   "source": [
    "<ol>\n",
    "<li><b>taxi_id</b>: identification number of taxi</li> \n",
    "<li><b>trip_start_timestamp</b>: time taxi driver begins trip for passenger</li>\n",
    "<li><b>trip_end_timestamp</b>: time taxi driver ends trip for passenger</li>\n",
    "<li><b>trip_seconds</b>: total time of trip counted in seconds for passenger</li>\n",
    "<li><b>trip_miles</b>: total miles traveled during trip for passenger</li>\n",
    "<li><b>pickup_community_area</b>: specialized community area where passenger picked up</li>\n",
    "<li><b>dropoff_community_area</b>: specialized community area where passenger dropped off up</li>\n",
    "<li><b>fare</b>: amount to go from point a to b</li>\n",
    "<li><b>tips</b>: amount passenger tipped taxi driver</li>\n",
    "<li><b>tolls</b>: extra toll payments</li>\n",
    "<li><b>extras</b>: extra money spent by passenger for taxi ride</li>\n",
    "<li><b>trip_total</b>: total amount passenger spent on taxi ride</li>\n",
    "<li><b>payment_type</b>: payment method of customer</li>\n",
    "<li><b>company</b>: company taxi driver works for</li>\n",
    "<li><b>pickup_lattitude</b>: pickup destination lattitude point</li>\n",
    "<li><b>pickup_longitude</b>: pickup destination longitude point</li>\n",
    "<li><b>dropoff_lattitude</b>: dropoff destination lattitude point</li>\n",
    "<li><b>dropoff_longitude</b>: dropoff destination longitude point</li>\n",
    "</ol>\n"
   ]
  },
  {
   "cell_type": "code",
   "execution_count": 5,
   "metadata": {},
   "outputs": [
    {
     "data": {
      "text/plain": [
       "(1986616, 20)"
      ]
     },
     "execution_count": 5,
     "metadata": {},
     "output_type": "execute_result"
    }
   ],
   "source": [
    "newdf.shape"
   ]
  },
  {
   "cell_type": "code",
   "execution_count": 6,
   "metadata": {},
   "outputs": [
    {
     "data": {
      "text/plain": [
       "taxi_id                       283\n",
       "trip_start_timestamp            0\n",
       "trip_end_timestamp            250\n",
       "trip_seconds                  329\n",
       "trip_miles                     22\n",
       "pickup_census_tract       1986616\n",
       "dropoff_census_tract       772817\n",
       "pickup_community_area      275671\n",
       "dropoff_community_area     308533\n",
       "fare                           30\n",
       "tips                           30\n",
       "tolls                          30\n",
       "extras                         30\n",
       "trip_total                     30\n",
       "payment_type                    0\n",
       "company                    763833\n",
       "pickup_latitude            275629\n",
       "pickup_longitude           275629\n",
       "dropoff_latitude           304747\n",
       "dropoff_longitude          304747\n",
       "dtype: int64"
      ]
     },
     "execution_count": 6,
     "metadata": {},
     "output_type": "execute_result"
    }
   ],
   "source": [
    "newdf.isna().sum()"
   ]
  },
  {
   "cell_type": "code",
   "execution_count": 7,
   "metadata": {},
   "outputs": [
    {
     "data": {
      "text/html": [
       "<div>\n",
       "<style scoped>\n",
       "    .dataframe tbody tr th:only-of-type {\n",
       "        vertical-align: middle;\n",
       "    }\n",
       "\n",
       "    .dataframe tbody tr th {\n",
       "        vertical-align: top;\n",
       "    }\n",
       "\n",
       "    .dataframe thead th {\n",
       "        text-align: right;\n",
       "    }\n",
       "</style>\n",
       "<table border=\"1\" class=\"dataframe\">\n",
       "  <thead>\n",
       "    <tr style=\"text-align: right;\">\n",
       "      <th></th>\n",
       "      <th>taxi_id</th>\n",
       "      <th>trip_start_timestamp</th>\n",
       "      <th>trip_end_timestamp</th>\n",
       "      <th>trip_seconds</th>\n",
       "      <th>trip_miles</th>\n",
       "      <th>pickup_census_tract</th>\n",
       "      <th>dropoff_census_tract</th>\n",
       "      <th>pickup_community_area</th>\n",
       "      <th>dropoff_community_area</th>\n",
       "      <th>fare</th>\n",
       "      <th>tips</th>\n",
       "      <th>tolls</th>\n",
       "      <th>extras</th>\n",
       "      <th>trip_total</th>\n",
       "      <th>payment_type</th>\n",
       "      <th>company</th>\n",
       "      <th>pickup_latitude</th>\n",
       "      <th>pickup_longitude</th>\n",
       "      <th>dropoff_latitude</th>\n",
       "      <th>dropoff_longitude</th>\n",
       "    </tr>\n",
       "  </thead>\n",
       "  <tbody>\n",
       "    <tr>\n",
       "      <th>2615738</th>\n",
       "      <td>4016.0</td>\n",
       "      <td>2016-2-13 17:15:00</td>\n",
       "      <td>2016-2-13 17:45:00</td>\n",
       "      <td>1080.0</td>\n",
       "      <td>2.8</td>\n",
       "      <td>NaN</td>\n",
       "      <td>807.0</td>\n",
       "      <td>8.0</td>\n",
       "      <td>28.0</td>\n",
       "      <td>12.75</td>\n",
       "      <td>2.0</td>\n",
       "      <td>0.0</td>\n",
       "      <td>1.0</td>\n",
       "      <td>15.75</td>\n",
       "      <td>Credit Card</td>\n",
       "      <td>NaN</td>\n",
       "      <td>210.0</td>\n",
       "      <td>470.0</td>\n",
       "      <td>411.0</td>\n",
       "      <td>545.0</td>\n",
       "    </tr>\n",
       "    <tr>\n",
       "      <th>11107382</th>\n",
       "      <td>4387.0</td>\n",
       "      <td>2016-6-16 20:30:00</td>\n",
       "      <td>2016-6-16 20:30:00</td>\n",
       "      <td>300.0</td>\n",
       "      <td>0.5</td>\n",
       "      <td>NaN</td>\n",
       "      <td>1101.0</td>\n",
       "      <td>24.0</td>\n",
       "      <td>24.0</td>\n",
       "      <td>5.00</td>\n",
       "      <td>0.0</td>\n",
       "      <td>0.0</td>\n",
       "      <td>1.0</td>\n",
       "      <td>6.00</td>\n",
       "      <td>Cash</td>\n",
       "      <td>NaN</td>\n",
       "      <td>255.0</td>\n",
       "      <td>300.0</td>\n",
       "      <td>753.0</td>\n",
       "      <td>551.0</td>\n",
       "    </tr>\n",
       "    <tr>\n",
       "      <th>12285774</th>\n",
       "      <td>4865.0</td>\n",
       "      <td>2016-7-14 15:45:00</td>\n",
       "      <td>2016-7-14 16:15:00</td>\n",
       "      <td>2340.0</td>\n",
       "      <td>11.0</td>\n",
       "      <td>NaN</td>\n",
       "      <td>960.0</td>\n",
       "      <td>28.0</td>\n",
       "      <td>56.0</td>\n",
       "      <td>30.50</td>\n",
       "      <td>6.2</td>\n",
       "      <td>0.0</td>\n",
       "      <td>0.0</td>\n",
       "      <td>37.20</td>\n",
       "      <td>Credit Card</td>\n",
       "      <td>NaN</td>\n",
       "      <td>411.0</td>\n",
       "      <td>545.0</td>\n",
       "      <td>433.0</td>\n",
       "      <td>757.0</td>\n",
       "    </tr>\n",
       "    <tr>\n",
       "      <th>4176652</th>\n",
       "      <td>727.0</td>\n",
       "      <td>2016-3-14 03:00:00</td>\n",
       "      <td>2016-3-14 03:00:00</td>\n",
       "      <td>420.0</td>\n",
       "      <td>0.0</td>\n",
       "      <td>NaN</td>\n",
       "      <td>NaN</td>\n",
       "      <td>6.0</td>\n",
       "      <td>3.0</td>\n",
       "      <td>7.50</td>\n",
       "      <td>0.0</td>\n",
       "      <td>0.0</td>\n",
       "      <td>1.5</td>\n",
       "      <td>9.00</td>\n",
       "      <td>Cash</td>\n",
       "      <td>107.0</td>\n",
       "      <td>686.0</td>\n",
       "      <td>500.0</td>\n",
       "      <td>660.0</td>\n",
       "      <td>120.0</td>\n",
       "    </tr>\n",
       "    <tr>\n",
       "      <th>18263903</th>\n",
       "      <td>2452.0</td>\n",
       "      <td>2016-11-16 21:15:00</td>\n",
       "      <td>2016-11-16 21:15:00</td>\n",
       "      <td>600.0</td>\n",
       "      <td>1.6</td>\n",
       "      <td>NaN</td>\n",
       "      <td>NaN</td>\n",
       "      <td>NaN</td>\n",
       "      <td>NaN</td>\n",
       "      <td>8.25</td>\n",
       "      <td>3.0</td>\n",
       "      <td>0.0</td>\n",
       "      <td>1.0</td>\n",
       "      <td>12.25</td>\n",
       "      <td>Credit Card</td>\n",
       "      <td>43.0</td>\n",
       "      <td>NaN</td>\n",
       "      <td>NaN</td>\n",
       "      <td>NaN</td>\n",
       "      <td>NaN</td>\n",
       "    </tr>\n",
       "  </tbody>\n",
       "</table>\n",
       "</div>"
      ],
      "text/plain": [
       "          taxi_id trip_start_timestamp   trip_end_timestamp  trip_seconds  \\\n",
       "2615738    4016.0   2016-2-13 17:15:00   2016-2-13 17:45:00        1080.0   \n",
       "11107382   4387.0   2016-6-16 20:30:00   2016-6-16 20:30:00         300.0   \n",
       "12285774   4865.0   2016-7-14 15:45:00   2016-7-14 16:15:00        2340.0   \n",
       "4176652     727.0   2016-3-14 03:00:00   2016-3-14 03:00:00         420.0   \n",
       "18263903   2452.0  2016-11-16 21:15:00  2016-11-16 21:15:00         600.0   \n",
       "\n",
       "          trip_miles  pickup_census_tract  dropoff_census_tract  \\\n",
       "2615738          2.8                  NaN                 807.0   \n",
       "11107382         0.5                  NaN                1101.0   \n",
       "12285774        11.0                  NaN                 960.0   \n",
       "4176652          0.0                  NaN                   NaN   \n",
       "18263903         1.6                  NaN                   NaN   \n",
       "\n",
       "          pickup_community_area  dropoff_community_area   fare  tips  tolls  \\\n",
       "2615738                     8.0                    28.0  12.75   2.0    0.0   \n",
       "11107382                   24.0                    24.0   5.00   0.0    0.0   \n",
       "12285774                   28.0                    56.0  30.50   6.2    0.0   \n",
       "4176652                     6.0                     3.0   7.50   0.0    0.0   \n",
       "18263903                    NaN                     NaN   8.25   3.0    0.0   \n",
       "\n",
       "          extras  trip_total payment_type  company  pickup_latitude  \\\n",
       "2615738      1.0       15.75  Credit Card      NaN            210.0   \n",
       "11107382     1.0        6.00         Cash      NaN            255.0   \n",
       "12285774     0.0       37.20  Credit Card      NaN            411.0   \n",
       "4176652      1.5        9.00         Cash    107.0            686.0   \n",
       "18263903     1.0       12.25  Credit Card     43.0              NaN   \n",
       "\n",
       "          pickup_longitude  dropoff_latitude  dropoff_longitude  \n",
       "2615738              470.0             411.0              545.0  \n",
       "11107382             300.0             753.0              551.0  \n",
       "12285774             545.0             433.0              757.0  \n",
       "4176652              500.0             660.0              120.0  \n",
       "18263903               NaN               NaN                NaN  "
      ]
     },
     "execution_count": 7,
     "metadata": {},
     "output_type": "execute_result"
    }
   ],
   "source": [
    "newdf.head()"
   ]
  },
  {
   "cell_type": "code",
   "execution_count": 11,
   "metadata": {},
   "outputs": [
    {
     "data": {
      "text/html": [
       "<div>\n",
       "<style scoped>\n",
       "    .dataframe tbody tr th:only-of-type {\n",
       "        vertical-align: middle;\n",
       "    }\n",
       "\n",
       "    .dataframe tbody tr th {\n",
       "        vertical-align: top;\n",
       "    }\n",
       "\n",
       "    .dataframe thead th {\n",
       "        text-align: right;\n",
       "    }\n",
       "</style>\n",
       "<table border=\"1\" class=\"dataframe\">\n",
       "  <thead>\n",
       "    <tr style=\"text-align: right;\">\n",
       "      <th></th>\n",
       "      <th>taxi_id</th>\n",
       "      <th>trip_start_timestamp</th>\n",
       "      <th>trip_end_timestamp</th>\n",
       "      <th>trip_seconds</th>\n",
       "      <th>trip_miles</th>\n",
       "      <th>pickup_census_tract</th>\n",
       "      <th>dropoff_census_tract</th>\n",
       "      <th>pickup_community_area</th>\n",
       "      <th>dropoff_community_area</th>\n",
       "      <th>fare</th>\n",
       "      <th>tips</th>\n",
       "      <th>tolls</th>\n",
       "      <th>extras</th>\n",
       "      <th>trip_total</th>\n",
       "      <th>payment_type</th>\n",
       "      <th>company</th>\n",
       "      <th>pickup_latitude</th>\n",
       "      <th>pickup_longitude</th>\n",
       "      <th>dropoff_latitude</th>\n",
       "      <th>dropoff_longitude</th>\n",
       "    </tr>\n",
       "  </thead>\n",
       "  <tbody>\n",
       "    <tr>\n",
       "      <th>0</th>\n",
       "      <td>4016.0</td>\n",
       "      <td>2016-2-13 17:15:00</td>\n",
       "      <td>2016-2-13 17:45:00</td>\n",
       "      <td>1080.0</td>\n",
       "      <td>2.8</td>\n",
       "      <td>NaN</td>\n",
       "      <td>807.0</td>\n",
       "      <td>8.0</td>\n",
       "      <td>28.0</td>\n",
       "      <td>12.75</td>\n",
       "      <td>2.0</td>\n",
       "      <td>0.0</td>\n",
       "      <td>1.0</td>\n",
       "      <td>15.75</td>\n",
       "      <td>Credit Card</td>\n",
       "      <td>NaN</td>\n",
       "      <td>210.0</td>\n",
       "      <td>470.0</td>\n",
       "      <td>411.0</td>\n",
       "      <td>545.0</td>\n",
       "    </tr>\n",
       "    <tr>\n",
       "      <th>1</th>\n",
       "      <td>4387.0</td>\n",
       "      <td>2016-6-16 20:30:00</td>\n",
       "      <td>2016-6-16 20:30:00</td>\n",
       "      <td>300.0</td>\n",
       "      <td>0.5</td>\n",
       "      <td>NaN</td>\n",
       "      <td>1101.0</td>\n",
       "      <td>24.0</td>\n",
       "      <td>24.0</td>\n",
       "      <td>5.00</td>\n",
       "      <td>0.0</td>\n",
       "      <td>0.0</td>\n",
       "      <td>1.0</td>\n",
       "      <td>6.00</td>\n",
       "      <td>Cash</td>\n",
       "      <td>NaN</td>\n",
       "      <td>255.0</td>\n",
       "      <td>300.0</td>\n",
       "      <td>753.0</td>\n",
       "      <td>551.0</td>\n",
       "    </tr>\n",
       "    <tr>\n",
       "      <th>2</th>\n",
       "      <td>4865.0</td>\n",
       "      <td>2016-7-14 15:45:00</td>\n",
       "      <td>2016-7-14 16:15:00</td>\n",
       "      <td>2340.0</td>\n",
       "      <td>11.0</td>\n",
       "      <td>NaN</td>\n",
       "      <td>960.0</td>\n",
       "      <td>28.0</td>\n",
       "      <td>56.0</td>\n",
       "      <td>30.50</td>\n",
       "      <td>6.2</td>\n",
       "      <td>0.0</td>\n",
       "      <td>0.0</td>\n",
       "      <td>37.20</td>\n",
       "      <td>Credit Card</td>\n",
       "      <td>NaN</td>\n",
       "      <td>411.0</td>\n",
       "      <td>545.0</td>\n",
       "      <td>433.0</td>\n",
       "      <td>757.0</td>\n",
       "    </tr>\n",
       "    <tr>\n",
       "      <th>3</th>\n",
       "      <td>727.0</td>\n",
       "      <td>2016-3-14 03:00:00</td>\n",
       "      <td>2016-3-14 03:00:00</td>\n",
       "      <td>420.0</td>\n",
       "      <td>0.0</td>\n",
       "      <td>NaN</td>\n",
       "      <td>NaN</td>\n",
       "      <td>6.0</td>\n",
       "      <td>3.0</td>\n",
       "      <td>7.50</td>\n",
       "      <td>0.0</td>\n",
       "      <td>0.0</td>\n",
       "      <td>1.5</td>\n",
       "      <td>9.00</td>\n",
       "      <td>Cash</td>\n",
       "      <td>107.0</td>\n",
       "      <td>686.0</td>\n",
       "      <td>500.0</td>\n",
       "      <td>660.0</td>\n",
       "      <td>120.0</td>\n",
       "    </tr>\n",
       "    <tr>\n",
       "      <th>4</th>\n",
       "      <td>2452.0</td>\n",
       "      <td>2016-11-16 21:15:00</td>\n",
       "      <td>2016-11-16 21:15:00</td>\n",
       "      <td>600.0</td>\n",
       "      <td>1.6</td>\n",
       "      <td>NaN</td>\n",
       "      <td>NaN</td>\n",
       "      <td>NaN</td>\n",
       "      <td>NaN</td>\n",
       "      <td>8.25</td>\n",
       "      <td>3.0</td>\n",
       "      <td>0.0</td>\n",
       "      <td>1.0</td>\n",
       "      <td>12.25</td>\n",
       "      <td>Credit Card</td>\n",
       "      <td>43.0</td>\n",
       "      <td>NaN</td>\n",
       "      <td>NaN</td>\n",
       "      <td>NaN</td>\n",
       "      <td>NaN</td>\n",
       "    </tr>\n",
       "  </tbody>\n",
       "</table>\n",
       "</div>"
      ],
      "text/plain": [
       "   taxi_id trip_start_timestamp   trip_end_timestamp  trip_seconds  \\\n",
       "0   4016.0   2016-2-13 17:15:00   2016-2-13 17:45:00        1080.0   \n",
       "1   4387.0   2016-6-16 20:30:00   2016-6-16 20:30:00         300.0   \n",
       "2   4865.0   2016-7-14 15:45:00   2016-7-14 16:15:00        2340.0   \n",
       "3    727.0   2016-3-14 03:00:00   2016-3-14 03:00:00         420.0   \n",
       "4   2452.0  2016-11-16 21:15:00  2016-11-16 21:15:00         600.0   \n",
       "\n",
       "   trip_miles  pickup_census_tract  dropoff_census_tract  \\\n",
       "0         2.8                  NaN                 807.0   \n",
       "1         0.5                  NaN                1101.0   \n",
       "2        11.0                  NaN                 960.0   \n",
       "3         0.0                  NaN                   NaN   \n",
       "4         1.6                  NaN                   NaN   \n",
       "\n",
       "   pickup_community_area  dropoff_community_area   fare  tips  tolls  extras  \\\n",
       "0                    8.0                    28.0  12.75   2.0    0.0     1.0   \n",
       "1                   24.0                    24.0   5.00   0.0    0.0     1.0   \n",
       "2                   28.0                    56.0  30.50   6.2    0.0     0.0   \n",
       "3                    6.0                     3.0   7.50   0.0    0.0     1.5   \n",
       "4                    NaN                     NaN   8.25   3.0    0.0     1.0   \n",
       "\n",
       "   trip_total payment_type  company  pickup_latitude  pickup_longitude  \\\n",
       "0       15.75  Credit Card      NaN            210.0             470.0   \n",
       "1        6.00         Cash      NaN            255.0             300.0   \n",
       "2       37.20  Credit Card      NaN            411.0             545.0   \n",
       "3        9.00         Cash    107.0            686.0             500.0   \n",
       "4       12.25  Credit Card     43.0              NaN               NaN   \n",
       "\n",
       "   dropoff_latitude  dropoff_longitude  \n",
       "0             411.0              545.0  \n",
       "1             753.0              551.0  \n",
       "2             433.0              757.0  \n",
       "3             660.0              120.0  \n",
       "4               NaN                NaN  "
      ]
     },
     "execution_count": 11,
     "metadata": {},
     "output_type": "execute_result"
    }
   ],
   "source": [
    "newdf.head()"
   ]
  },
  {
   "cell_type": "markdown",
   "metadata": {},
   "source": [
    "# Data Cleanup"
   ]
  },
  {
   "cell_type": "code",
   "execution_count": 12,
   "metadata": {},
   "outputs": [],
   "source": [
    "newdf=newdf.drop(columns={'pickup_census_tract','dropoff_census_tract'})\n",
    "#drop these two columns because one is all nan"
   ]
  },
  {
   "cell_type": "code",
   "execution_count": 13,
   "metadata": {},
   "outputs": [],
   "source": [
    "faremean=newdf.fare.mean()\n",
    "newdf.fare.fillna(value=faremean,inplace=True)\n",
    "tipsmean=newdf.tips.mean()\n",
    "tollsmean=newdf.tolls.mean()\n",
    "milesmean=newdf.trip_miles.mean()\n",
    "secondsmean=newdf.trip_seconds.mean()\n",
    "extrasmean=newdf.extras.mean()\n",
    "newdf.tips.fillna(value=tipsmean,inplace=True)\n",
    "newdf.tolls.fillna(value=tollsmean,inplace=True)\n",
    "newdf.trip_miles.fillna(value=milesmean,inplace=True)\n",
    "newdf.trip_seconds.fillna(value=secondsmean,inplace=True)\n",
    "newdf.extras.fillna(value=extrasmean,inplace=True)\n",
    "totalmean=newdf.trip_total.mean()\n",
    "newdf.trip_total.fillna(value=totalmean,inplace=True)\n",
    "#fill in the few missing numerical values with averages\n"
   ]
  },
  {
   "cell_type": "code",
   "execution_count": 14,
   "metadata": {},
   "outputs": [
    {
     "data": {
      "text/plain": [
       "taxi_id                      283\n",
       "trip_start_timestamp           0\n",
       "trip_end_timestamp           250\n",
       "trip_seconds                   0\n",
       "trip_miles                     0\n",
       "pickup_community_area     275671\n",
       "dropoff_community_area    308533\n",
       "fare                           0\n",
       "tips                           0\n",
       "tolls                          0\n",
       "extras                         0\n",
       "trip_total                     0\n",
       "payment_type                   0\n",
       "company                   763833\n",
       "pickup_latitude           275629\n",
       "pickup_longitude          275629\n",
       "dropoff_latitude          304747\n",
       "dropoff_longitude         304747\n",
       "dtype: int64"
      ]
     },
     "execution_count": 14,
     "metadata": {},
     "output_type": "execute_result"
    }
   ],
   "source": [
    "newdf.isna().sum()"
   ]
  },
  {
   "cell_type": "code",
   "execution_count": 15,
   "metadata": {},
   "outputs": [],
   "source": [
    "list=[]\n",
    "for x in newdf[newdf.trip_end_timestamp.isna()].trip_start_timestamp.values:\n",
    "    y=datetime.datetime.strptime(x,\"%Y-%m-%d %H:%M:%S\")+datetime.timedelta(0,newdf.trip_seconds.mean())\n",
    "    y=y.strftime(\"%Y-%m-%d %H:%M:%S\")\n",
    "    list.append(y)\n",
    "dfchange=newdf[newdf.trip_end_timestamp.isna()].copy()\n",
    "dfchange.trip_end_timestamp=list\n",
    "#create a new df that fills in the few missing end times by adding the average seconds to the start date.\n",
    "#the timestamps in the whole df are not exactly accurate to the trip seconds per row. They are just rounded to the nearest 15 min mark"
   ]
  },
  {
   "cell_type": "code",
   "execution_count": 16,
   "metadata": {},
   "outputs": [
    {
     "data": {
      "text/html": [
       "<div>\n",
       "<style scoped>\n",
       "    .dataframe tbody tr th:only-of-type {\n",
       "        vertical-align: middle;\n",
       "    }\n",
       "\n",
       "    .dataframe tbody tr th {\n",
       "        vertical-align: top;\n",
       "    }\n",
       "\n",
       "    .dataframe thead th {\n",
       "        text-align: right;\n",
       "    }\n",
       "</style>\n",
       "<table border=\"1\" class=\"dataframe\">\n",
       "  <thead>\n",
       "    <tr style=\"text-align: right;\">\n",
       "      <th></th>\n",
       "      <th>taxi_id</th>\n",
       "      <th>trip_start_timestamp</th>\n",
       "      <th>trip_end_timestamp</th>\n",
       "      <th>trip_seconds</th>\n",
       "      <th>trip_miles</th>\n",
       "      <th>pickup_community_area</th>\n",
       "      <th>dropoff_community_area</th>\n",
       "      <th>fare</th>\n",
       "      <th>tips</th>\n",
       "      <th>tolls</th>\n",
       "      <th>extras</th>\n",
       "      <th>trip_total</th>\n",
       "      <th>payment_type</th>\n",
       "      <th>company</th>\n",
       "      <th>pickup_latitude</th>\n",
       "      <th>pickup_longitude</th>\n",
       "      <th>dropoff_latitude</th>\n",
       "      <th>dropoff_longitude</th>\n",
       "    </tr>\n",
       "  </thead>\n",
       "  <tbody>\n",
       "    <tr>\n",
       "      <th>7029</th>\n",
       "      <td>1445.0</td>\n",
       "      <td>2016-4-21 17:45:00</td>\n",
       "      <td>2016-04-21 17:57:47</td>\n",
       "      <td>767.551123</td>\n",
       "      <td>0.0</td>\n",
       "      <td>28.0</td>\n",
       "      <td>NaN</td>\n",
       "      <td>0.0</td>\n",
       "      <td>0.0</td>\n",
       "      <td>0.0</td>\n",
       "      <td>0.0</td>\n",
       "      <td>0.0</td>\n",
       "      <td>Unknown</td>\n",
       "      <td>101.0</td>\n",
       "      <td>411.0</td>\n",
       "      <td>545.0</td>\n",
       "      <td>NaN</td>\n",
       "      <td>NaN</td>\n",
       "    </tr>\n",
       "    <tr>\n",
       "      <th>34833</th>\n",
       "      <td>7517.0</td>\n",
       "      <td>2016-3-14 15:30:00</td>\n",
       "      <td>2016-03-14 15:42:47</td>\n",
       "      <td>767.551123</td>\n",
       "      <td>0.0</td>\n",
       "      <td>6.0</td>\n",
       "      <td>NaN</td>\n",
       "      <td>0.0</td>\n",
       "      <td>0.0</td>\n",
       "      <td>0.0</td>\n",
       "      <td>0.0</td>\n",
       "      <td>0.0</td>\n",
       "      <td>Unknown</td>\n",
       "      <td>8.0</td>\n",
       "      <td>686.0</td>\n",
       "      <td>500.0</td>\n",
       "      <td>NaN</td>\n",
       "      <td>NaN</td>\n",
       "    </tr>\n",
       "    <tr>\n",
       "      <th>38135</th>\n",
       "      <td>7099.0</td>\n",
       "      <td>2016-6-29 20:30:00</td>\n",
       "      <td>2016-06-29 20:42:47</td>\n",
       "      <td>767.551123</td>\n",
       "      <td>0.0</td>\n",
       "      <td>59.0</td>\n",
       "      <td>NaN</td>\n",
       "      <td>0.0</td>\n",
       "      <td>0.0</td>\n",
       "      <td>0.0</td>\n",
       "      <td>0.0</td>\n",
       "      <td>0.0</td>\n",
       "      <td>Unknown</td>\n",
       "      <td>82.0</td>\n",
       "      <td>376.0</td>\n",
       "      <td>92.0</td>\n",
       "      <td>NaN</td>\n",
       "      <td>NaN</td>\n",
       "    </tr>\n",
       "    <tr>\n",
       "      <th>40024</th>\n",
       "      <td>6966.0</td>\n",
       "      <td>2016-4-20 01:15:00</td>\n",
       "      <td>2016-04-20 01:27:47</td>\n",
       "      <td>767.551123</td>\n",
       "      <td>0.0</td>\n",
       "      <td>NaN</td>\n",
       "      <td>NaN</td>\n",
       "      <td>0.0</td>\n",
       "      <td>0.0</td>\n",
       "      <td>0.0</td>\n",
       "      <td>0.0</td>\n",
       "      <td>0.0</td>\n",
       "      <td>Unknown</td>\n",
       "      <td>8.0</td>\n",
       "      <td>NaN</td>\n",
       "      <td>NaN</td>\n",
       "      <td>NaN</td>\n",
       "      <td>NaN</td>\n",
       "    </tr>\n",
       "    <tr>\n",
       "      <th>43994</th>\n",
       "      <td>1603.0</td>\n",
       "      <td>2016-8-21 21:00:00</td>\n",
       "      <td>2016-08-21 21:12:47</td>\n",
       "      <td>767.551123</td>\n",
       "      <td>0.0</td>\n",
       "      <td>56.0</td>\n",
       "      <td>NaN</td>\n",
       "      <td>0.0</td>\n",
       "      <td>0.0</td>\n",
       "      <td>0.0</td>\n",
       "      <td>0.0</td>\n",
       "      <td>0.0</td>\n",
       "      <td>Unknown</td>\n",
       "      <td>43.0</td>\n",
       "      <td>433.0</td>\n",
       "      <td>757.0</td>\n",
       "      <td>NaN</td>\n",
       "      <td>NaN</td>\n",
       "    </tr>\n",
       "  </tbody>\n",
       "</table>\n",
       "</div>"
      ],
      "text/plain": [
       "       taxi_id trip_start_timestamp   trip_end_timestamp  trip_seconds  \\\n",
       "7029    1445.0   2016-4-21 17:45:00  2016-04-21 17:57:47    767.551123   \n",
       "34833   7517.0   2016-3-14 15:30:00  2016-03-14 15:42:47    767.551123   \n",
       "38135   7099.0   2016-6-29 20:30:00  2016-06-29 20:42:47    767.551123   \n",
       "40024   6966.0   2016-4-20 01:15:00  2016-04-20 01:27:47    767.551123   \n",
       "43994   1603.0   2016-8-21 21:00:00  2016-08-21 21:12:47    767.551123   \n",
       "\n",
       "       trip_miles  pickup_community_area  dropoff_community_area  fare  tips  \\\n",
       "7029          0.0                   28.0                     NaN   0.0   0.0   \n",
       "34833         0.0                    6.0                     NaN   0.0   0.0   \n",
       "38135         0.0                   59.0                     NaN   0.0   0.0   \n",
       "40024         0.0                    NaN                     NaN   0.0   0.0   \n",
       "43994         0.0                   56.0                     NaN   0.0   0.0   \n",
       "\n",
       "       tolls  extras  trip_total payment_type  company  pickup_latitude  \\\n",
       "7029     0.0     0.0         0.0      Unknown    101.0            411.0   \n",
       "34833    0.0     0.0         0.0      Unknown      8.0            686.0   \n",
       "38135    0.0     0.0         0.0      Unknown     82.0            376.0   \n",
       "40024    0.0     0.0         0.0      Unknown      8.0              NaN   \n",
       "43994    0.0     0.0         0.0      Unknown     43.0            433.0   \n",
       "\n",
       "       pickup_longitude  dropoff_latitude  dropoff_longitude  \n",
       "7029              545.0               NaN                NaN  \n",
       "34833             500.0               NaN                NaN  \n",
       "38135              92.0               NaN                NaN  \n",
       "40024               NaN               NaN                NaN  \n",
       "43994             757.0               NaN                NaN  "
      ]
     },
     "execution_count": 16,
     "metadata": {},
     "output_type": "execute_result"
    }
   ],
   "source": [
    "dfchange.head()"
   ]
  },
  {
   "cell_type": "code",
   "execution_count": 17,
   "metadata": {},
   "outputs": [],
   "source": [
    "dfcopy=newdf.copy()\n",
    "dfcopy.dropna(subset=['trip_end_timestamp'],axis=0,inplace=True)\n",
    "dfcopy=dfcopy.append(dfchange)\n",
    "#added on these changed nans to the bottom of the df and dropped the nans as they were"
   ]
  },
  {
   "cell_type": "code",
   "execution_count": 18,
   "metadata": {},
   "outputs": [
    {
     "data": {
      "text/plain": [
       "taxi_id                      283\n",
       "trip_start_timestamp           0\n",
       "trip_end_timestamp             0\n",
       "trip_seconds                   0\n",
       "trip_miles                     0\n",
       "pickup_community_area     275671\n",
       "dropoff_community_area    308533\n",
       "fare                           0\n",
       "tips                           0\n",
       "tolls                          0\n",
       "extras                         0\n",
       "trip_total                     0\n",
       "payment_type                   0\n",
       "company                   763833\n",
       "pickup_latitude           275629\n",
       "pickup_longitude          275629\n",
       "dropoff_latitude          304747\n",
       "dropoff_longitude         304747\n",
       "dtype: int64"
      ]
     },
     "execution_count": 18,
     "metadata": {},
     "output_type": "execute_result"
    }
   ],
   "source": [
    "dfcopy.isna().sum()"
   ]
  },
  {
   "cell_type": "code",
   "execution_count": 19,
   "metadata": {},
   "outputs": [],
   "source": [
    "dfcopy.company.fillna(value='Unknown', inplace=True)\n",
    "dfcopy.pickup_community_area.fillna(value='Unknown',inplace=True)\n",
    "dfcopy.dropoff_community_area.fillna(value='Unknown',inplace=True)\n",
    "dfcopy.taxi_id.fillna(value='Unknown',inplace=True)\n",
    "#fill in columns with categorical values with Unknown\n",
    "#note taxi_id is not a number but a string, the original value before the owener transformed some data is a very long number that makes no sense so we just kept these numbers as the id name\n"
   ]
  },
  {
   "cell_type": "code",
   "execution_count": 20,
   "metadata": {},
   "outputs": [],
   "source": [
    "df=dfcopy.copy()\n",
    "#change back to df after all these changes"
   ]
  },
  {
   "cell_type": "markdown",
   "metadata": {},
   "source": [
    "This next part involves changing back some of the values to what they were.\n",
    "The maker of this dataset created a key in json format for company names and \n",
    "latitude and longitude values. This next part involves making them their actual correct values. They also had one for taxi_ids but the format was terrible \n",
    "so we stuck with string numbers to represent them"
   ]
  },
  {
   "cell_type": "code",
   "execution_count": 21,
   "metadata": {},
   "outputs": [
    {
     "data": {
      "text/html": [
       "<div>\n",
       "<style scoped>\n",
       "    .dataframe tbody tr th:only-of-type {\n",
       "        vertical-align: middle;\n",
       "    }\n",
       "\n",
       "    .dataframe tbody tr th {\n",
       "        vertical-align: top;\n",
       "    }\n",
       "\n",
       "    .dataframe thead th {\n",
       "        text-align: right;\n",
       "    }\n",
       "</style>\n",
       "<table border=\"1\" class=\"dataframe\">\n",
       "  <thead>\n",
       "    <tr style=\"text-align: right;\">\n",
       "      <th></th>\n",
       "      <th>taxi_id</th>\n",
       "      <th>trip_start_timestamp</th>\n",
       "      <th>trip_end_timestamp</th>\n",
       "      <th>trip_seconds</th>\n",
       "      <th>trip_miles</th>\n",
       "      <th>pickup_community_area</th>\n",
       "      <th>dropoff_community_area</th>\n",
       "      <th>fare</th>\n",
       "      <th>tips</th>\n",
       "      <th>tolls</th>\n",
       "      <th>extras</th>\n",
       "      <th>trip_total</th>\n",
       "      <th>payment_type</th>\n",
       "      <th>company</th>\n",
       "      <th>pickup_latitude</th>\n",
       "      <th>pickup_longitude</th>\n",
       "      <th>dropoff_latitude</th>\n",
       "      <th>dropoff_longitude</th>\n",
       "    </tr>\n",
       "  </thead>\n",
       "  <tbody>\n",
       "    <tr>\n",
       "      <th>0</th>\n",
       "      <td>4016</td>\n",
       "      <td>2016-2-13 17:15:00</td>\n",
       "      <td>2016-2-13 17:45:00</td>\n",
       "      <td>1080.0</td>\n",
       "      <td>2.8</td>\n",
       "      <td>8</td>\n",
       "      <td>28</td>\n",
       "      <td>12.75</td>\n",
       "      <td>2.0</td>\n",
       "      <td>0.0</td>\n",
       "      <td>1.0</td>\n",
       "      <td>15.75</td>\n",
       "      <td>Credit Card</td>\n",
       "      <td>Unknown</td>\n",
       "      <td>210.0</td>\n",
       "      <td>470.0</td>\n",
       "      <td>411.0</td>\n",
       "      <td>545.0</td>\n",
       "    </tr>\n",
       "    <tr>\n",
       "      <th>1</th>\n",
       "      <td>4387</td>\n",
       "      <td>2016-6-16 20:30:00</td>\n",
       "      <td>2016-6-16 20:30:00</td>\n",
       "      <td>300.0</td>\n",
       "      <td>0.5</td>\n",
       "      <td>24</td>\n",
       "      <td>24</td>\n",
       "      <td>5.00</td>\n",
       "      <td>0.0</td>\n",
       "      <td>0.0</td>\n",
       "      <td>1.0</td>\n",
       "      <td>6.00</td>\n",
       "      <td>Cash</td>\n",
       "      <td>Unknown</td>\n",
       "      <td>255.0</td>\n",
       "      <td>300.0</td>\n",
       "      <td>753.0</td>\n",
       "      <td>551.0</td>\n",
       "    </tr>\n",
       "    <tr>\n",
       "      <th>2</th>\n",
       "      <td>4865</td>\n",
       "      <td>2016-7-14 15:45:00</td>\n",
       "      <td>2016-7-14 16:15:00</td>\n",
       "      <td>2340.0</td>\n",
       "      <td>11.0</td>\n",
       "      <td>28</td>\n",
       "      <td>56</td>\n",
       "      <td>30.50</td>\n",
       "      <td>6.2</td>\n",
       "      <td>0.0</td>\n",
       "      <td>0.0</td>\n",
       "      <td>37.20</td>\n",
       "      <td>Credit Card</td>\n",
       "      <td>Unknown</td>\n",
       "      <td>411.0</td>\n",
       "      <td>545.0</td>\n",
       "      <td>433.0</td>\n",
       "      <td>757.0</td>\n",
       "    </tr>\n",
       "    <tr>\n",
       "      <th>3</th>\n",
       "      <td>727</td>\n",
       "      <td>2016-3-14 03:00:00</td>\n",
       "      <td>2016-3-14 03:00:00</td>\n",
       "      <td>420.0</td>\n",
       "      <td>0.0</td>\n",
       "      <td>6</td>\n",
       "      <td>3</td>\n",
       "      <td>7.50</td>\n",
       "      <td>0.0</td>\n",
       "      <td>0.0</td>\n",
       "      <td>1.5</td>\n",
       "      <td>9.00</td>\n",
       "      <td>Cash</td>\n",
       "      <td>107</td>\n",
       "      <td>686.0</td>\n",
       "      <td>500.0</td>\n",
       "      <td>660.0</td>\n",
       "      <td>120.0</td>\n",
       "    </tr>\n",
       "    <tr>\n",
       "      <th>4</th>\n",
       "      <td>2452</td>\n",
       "      <td>2016-11-16 21:15:00</td>\n",
       "      <td>2016-11-16 21:15:00</td>\n",
       "      <td>600.0</td>\n",
       "      <td>1.6</td>\n",
       "      <td>Unknown</td>\n",
       "      <td>Unknown</td>\n",
       "      <td>8.25</td>\n",
       "      <td>3.0</td>\n",
       "      <td>0.0</td>\n",
       "      <td>1.0</td>\n",
       "      <td>12.25</td>\n",
       "      <td>Credit Card</td>\n",
       "      <td>43</td>\n",
       "      <td>NaN</td>\n",
       "      <td>NaN</td>\n",
       "      <td>NaN</td>\n",
       "      <td>NaN</td>\n",
       "    </tr>\n",
       "  </tbody>\n",
       "</table>\n",
       "</div>"
      ],
      "text/plain": [
       "  taxi_id trip_start_timestamp   trip_end_timestamp  trip_seconds  trip_miles  \\\n",
       "0    4016   2016-2-13 17:15:00   2016-2-13 17:45:00        1080.0         2.8   \n",
       "1    4387   2016-6-16 20:30:00   2016-6-16 20:30:00         300.0         0.5   \n",
       "2    4865   2016-7-14 15:45:00   2016-7-14 16:15:00        2340.0        11.0   \n",
       "3     727   2016-3-14 03:00:00   2016-3-14 03:00:00         420.0         0.0   \n",
       "4    2452  2016-11-16 21:15:00  2016-11-16 21:15:00         600.0         1.6   \n",
       "\n",
       "  pickup_community_area dropoff_community_area   fare  tips  tolls  extras  \\\n",
       "0                     8                     28  12.75   2.0    0.0     1.0   \n",
       "1                    24                     24   5.00   0.0    0.0     1.0   \n",
       "2                    28                     56  30.50   6.2    0.0     0.0   \n",
       "3                     6                      3   7.50   0.0    0.0     1.5   \n",
       "4               Unknown                Unknown   8.25   3.0    0.0     1.0   \n",
       "\n",
       "   trip_total payment_type  company  pickup_latitude  pickup_longitude  \\\n",
       "0       15.75  Credit Card  Unknown            210.0             470.0   \n",
       "1        6.00         Cash  Unknown            255.0             300.0   \n",
       "2       37.20  Credit Card  Unknown            411.0             545.0   \n",
       "3        9.00         Cash      107            686.0             500.0   \n",
       "4       12.25  Credit Card       43              NaN               NaN   \n",
       "\n",
       "   dropoff_latitude  dropoff_longitude  \n",
       "0             411.0              545.0  \n",
       "1             753.0              551.0  \n",
       "2             433.0              757.0  \n",
       "3             660.0              120.0  \n",
       "4               NaN                NaN  "
      ]
     },
     "execution_count": 21,
     "metadata": {},
     "output_type": "execute_result"
    }
   ],
   "source": [
    "df.head()\n",
    "#as you can see company is numerical and longitude and latitude don't make any sense because they are all located around chicago"
   ]
  },
  {
   "cell_type": "code",
   "execution_count": 22,
   "metadata": {},
   "outputs": [],
   "source": [
    "with open(\"column_remapping.json\") as f_open:\n",
    "    column_id_map = json.load(f_open)\n",
    "company_id = column_id_map['company']\n",
    "list=df.company.tolist()\n",
    "i=-1\n",
    "for x in list:\n",
    "    i=i+1\n",
    "    if x=='Unknown':\n",
    "        list[i]='10000'\n",
    "for i in range(len(list)):\n",
    "    list[i]=int(list[i])\n",
    "for i in range(len(list)):\n",
    "    list[i]=str(list[i])\n",
    "#opens the json data codes for company\n",
    "#puts the current dataframe's company column into a list\n",
    "#changes the unknown values already put in the column to an id specifically for that\n",
    "#changes each number to an int because right now they are floats\n",
    "#changes the int back to a string to correspond with the json file as they are all string numbers with no decimals"
   ]
  },
  {
   "cell_type": "code",
   "execution_count": 23,
   "metadata": {},
   "outputs": [
    {
     "data": {
      "text/plain": [
       "'10000'"
      ]
     },
     "execution_count": 23,
     "metadata": {},
     "output_type": "execute_result"
    }
   ],
   "source": [
    "list[0]\n",
    "#output to match with the json file"
   ]
  },
  {
   "cell_type": "code",
   "execution_count": 24,
   "metadata": {},
   "outputs": [
    {
     "data": {
      "text/plain": [
       "'3623-Arrington Enterprises'"
      ]
     },
     "execution_count": 24,
     "metadata": {},
     "output_type": "execute_result"
    }
   ],
   "source": [
    "company_id['0']\n",
    "#what the json file says for company"
   ]
  },
  {
   "cell_type": "code",
   "execution_count": 25,
   "metadata": {},
   "outputs": [],
   "source": [
    "i=-1\n",
    "for x in list:\n",
    "    i=i+1\n",
    "    for y in company_id:\n",
    "        if x==y:\n",
    "            list[i]=company_id[y]\n",
    "for i in range(len(list)):\n",
    "          if list[i]=='10000':\n",
    "               list[i]='Unknown'\n",
    "\n",
    "#loops through both the json and the company list and modifies them to the real value\n",
    "#last loop changes back the 10000 to unknown, which is what it was"
   ]
  },
  {
   "cell_type": "code",
   "execution_count": 26,
   "metadata": {},
   "outputs": [
    {
     "data": {
      "text/plain": [
       "'Unknown'"
      ]
     },
     "execution_count": 26,
     "metadata": {},
     "output_type": "execute_result"
    }
   ],
   "source": [
    "list[0]\n",
    "#final output "
   ]
  },
  {
   "cell_type": "code",
   "execution_count": 27,
   "metadata": {},
   "outputs": [
    {
     "data": {
      "text/html": [
       "<div>\n",
       "<style scoped>\n",
       "    .dataframe tbody tr th:only-of-type {\n",
       "        vertical-align: middle;\n",
       "    }\n",
       "\n",
       "    .dataframe tbody tr th {\n",
       "        vertical-align: top;\n",
       "    }\n",
       "\n",
       "    .dataframe thead th {\n",
       "        text-align: right;\n",
       "    }\n",
       "</style>\n",
       "<table border=\"1\" class=\"dataframe\">\n",
       "  <thead>\n",
       "    <tr style=\"text-align: right;\">\n",
       "      <th></th>\n",
       "      <th>taxi_id</th>\n",
       "      <th>trip_start_timestamp</th>\n",
       "      <th>trip_end_timestamp</th>\n",
       "      <th>trip_seconds</th>\n",
       "      <th>trip_miles</th>\n",
       "      <th>pickup_community_area</th>\n",
       "      <th>dropoff_community_area</th>\n",
       "      <th>fare</th>\n",
       "      <th>tips</th>\n",
       "      <th>tolls</th>\n",
       "      <th>extras</th>\n",
       "      <th>trip_total</th>\n",
       "      <th>payment_type</th>\n",
       "      <th>company</th>\n",
       "      <th>pickup_latitude</th>\n",
       "      <th>pickup_longitude</th>\n",
       "      <th>dropoff_latitude</th>\n",
       "      <th>dropoff_longitude</th>\n",
       "    </tr>\n",
       "  </thead>\n",
       "  <tbody>\n",
       "    <tr>\n",
       "      <th>0</th>\n",
       "      <td>4016</td>\n",
       "      <td>2016-2-13 17:15:00</td>\n",
       "      <td>2016-2-13 17:45:00</td>\n",
       "      <td>1080.0</td>\n",
       "      <td>2.8</td>\n",
       "      <td>8</td>\n",
       "      <td>28</td>\n",
       "      <td>12.75</td>\n",
       "      <td>2.0</td>\n",
       "      <td>0.0</td>\n",
       "      <td>1.0</td>\n",
       "      <td>15.75</td>\n",
       "      <td>Credit Card</td>\n",
       "      <td>Unknown</td>\n",
       "      <td>210.0</td>\n",
       "      <td>470.0</td>\n",
       "      <td>411.0</td>\n",
       "      <td>545.0</td>\n",
       "    </tr>\n",
       "    <tr>\n",
       "      <th>1</th>\n",
       "      <td>4387</td>\n",
       "      <td>2016-6-16 20:30:00</td>\n",
       "      <td>2016-6-16 20:30:00</td>\n",
       "      <td>300.0</td>\n",
       "      <td>0.5</td>\n",
       "      <td>24</td>\n",
       "      <td>24</td>\n",
       "      <td>5.00</td>\n",
       "      <td>0.0</td>\n",
       "      <td>0.0</td>\n",
       "      <td>1.0</td>\n",
       "      <td>6.00</td>\n",
       "      <td>Cash</td>\n",
       "      <td>Unknown</td>\n",
       "      <td>255.0</td>\n",
       "      <td>300.0</td>\n",
       "      <td>753.0</td>\n",
       "      <td>551.0</td>\n",
       "    </tr>\n",
       "    <tr>\n",
       "      <th>2</th>\n",
       "      <td>4865</td>\n",
       "      <td>2016-7-14 15:45:00</td>\n",
       "      <td>2016-7-14 16:15:00</td>\n",
       "      <td>2340.0</td>\n",
       "      <td>11.0</td>\n",
       "      <td>28</td>\n",
       "      <td>56</td>\n",
       "      <td>30.50</td>\n",
       "      <td>6.2</td>\n",
       "      <td>0.0</td>\n",
       "      <td>0.0</td>\n",
       "      <td>37.20</td>\n",
       "      <td>Credit Card</td>\n",
       "      <td>Unknown</td>\n",
       "      <td>411.0</td>\n",
       "      <td>545.0</td>\n",
       "      <td>433.0</td>\n",
       "      <td>757.0</td>\n",
       "    </tr>\n",
       "    <tr>\n",
       "      <th>3</th>\n",
       "      <td>727</td>\n",
       "      <td>2016-3-14 03:00:00</td>\n",
       "      <td>2016-3-14 03:00:00</td>\n",
       "      <td>420.0</td>\n",
       "      <td>0.0</td>\n",
       "      <td>6</td>\n",
       "      <td>3</td>\n",
       "      <td>7.50</td>\n",
       "      <td>0.0</td>\n",
       "      <td>0.0</td>\n",
       "      <td>1.5</td>\n",
       "      <td>9.00</td>\n",
       "      <td>Cash</td>\n",
       "      <td>Taxi Affiliation Services</td>\n",
       "      <td>686.0</td>\n",
       "      <td>500.0</td>\n",
       "      <td>660.0</td>\n",
       "      <td>120.0</td>\n",
       "    </tr>\n",
       "    <tr>\n",
       "      <th>4</th>\n",
       "      <td>2452</td>\n",
       "      <td>2016-11-16 21:15:00</td>\n",
       "      <td>2016-11-16 21:15:00</td>\n",
       "      <td>600.0</td>\n",
       "      <td>1.6</td>\n",
       "      <td>Unknown</td>\n",
       "      <td>Unknown</td>\n",
       "      <td>8.25</td>\n",
       "      <td>3.0</td>\n",
       "      <td>0.0</td>\n",
       "      <td>1.0</td>\n",
       "      <td>12.25</td>\n",
       "      <td>Credit Card</td>\n",
       "      <td>Chicago Medallion Leasing INC</td>\n",
       "      <td>NaN</td>\n",
       "      <td>NaN</td>\n",
       "      <td>NaN</td>\n",
       "      <td>NaN</td>\n",
       "    </tr>\n",
       "  </tbody>\n",
       "</table>\n",
       "</div>"
      ],
      "text/plain": [
       "  taxi_id trip_start_timestamp   trip_end_timestamp  trip_seconds  trip_miles  \\\n",
       "0    4016   2016-2-13 17:15:00   2016-2-13 17:45:00        1080.0         2.8   \n",
       "1    4387   2016-6-16 20:30:00   2016-6-16 20:30:00         300.0         0.5   \n",
       "2    4865   2016-7-14 15:45:00   2016-7-14 16:15:00        2340.0        11.0   \n",
       "3     727   2016-3-14 03:00:00   2016-3-14 03:00:00         420.0         0.0   \n",
       "4    2452  2016-11-16 21:15:00  2016-11-16 21:15:00         600.0         1.6   \n",
       "\n",
       "  pickup_community_area dropoff_community_area   fare  tips  tolls  extras  \\\n",
       "0                     8                     28  12.75   2.0    0.0     1.0   \n",
       "1                    24                     24   5.00   0.0    0.0     1.0   \n",
       "2                    28                     56  30.50   6.2    0.0     0.0   \n",
       "3                     6                      3   7.50   0.0    0.0     1.5   \n",
       "4               Unknown                Unknown   8.25   3.0    0.0     1.0   \n",
       "\n",
       "   trip_total payment_type                        company  pickup_latitude  \\\n",
       "0       15.75  Credit Card                        Unknown            210.0   \n",
       "1        6.00         Cash                        Unknown            255.0   \n",
       "2       37.20  Credit Card                        Unknown            411.0   \n",
       "3        9.00         Cash      Taxi Affiliation Services            686.0   \n",
       "4       12.25  Credit Card  Chicago Medallion Leasing INC              NaN   \n",
       "\n",
       "   pickup_longitude  dropoff_latitude  dropoff_longitude  \n",
       "0             470.0             411.0              545.0  \n",
       "1             300.0             753.0              551.0  \n",
       "2             545.0             433.0              757.0  \n",
       "3             500.0             660.0              120.0  \n",
       "4               NaN               NaN                NaN  "
      ]
     },
     "execution_count": 27,
     "metadata": {},
     "output_type": "execute_result"
    }
   ],
   "source": [
    "df.company=list\n",
    "df.head()\n",
    "#shows result in df"
   ]
  },
  {
   "cell_type": "code",
   "execution_count": 28,
   "metadata": {},
   "outputs": [],
   "source": [
    "df.pickup_latitude.fillna(value='Unknown',inplace=True)\n",
    "df.pickup_longitude.fillna(value='Unknown',inplace=True)\n",
    "df.dropoff_latitude.fillna(value='Unknown',inplace=True)\n",
    "df.dropoff_longitude.fillna(value='Unknown',inplace=True)\n",
    "#make these unknown for now just to get their correct values from json file"
   ]
  },
  {
   "cell_type": "code",
   "execution_count": 29,
   "metadata": {},
   "outputs": [
    {
     "data": {
      "text/html": [
       "<div>\n",
       "<style scoped>\n",
       "    .dataframe tbody tr th:only-of-type {\n",
       "        vertical-align: middle;\n",
       "    }\n",
       "\n",
       "    .dataframe tbody tr th {\n",
       "        vertical-align: top;\n",
       "    }\n",
       "\n",
       "    .dataframe thead th {\n",
       "        text-align: right;\n",
       "    }\n",
       "</style>\n",
       "<table border=\"1\" class=\"dataframe\">\n",
       "  <thead>\n",
       "    <tr style=\"text-align: right;\">\n",
       "      <th></th>\n",
       "      <th>taxi_id</th>\n",
       "      <th>trip_start_timestamp</th>\n",
       "      <th>trip_end_timestamp</th>\n",
       "      <th>trip_seconds</th>\n",
       "      <th>trip_miles</th>\n",
       "      <th>pickup_community_area</th>\n",
       "      <th>dropoff_community_area</th>\n",
       "      <th>fare</th>\n",
       "      <th>tips</th>\n",
       "      <th>tolls</th>\n",
       "      <th>extras</th>\n",
       "      <th>trip_total</th>\n",
       "      <th>payment_type</th>\n",
       "      <th>company</th>\n",
       "      <th>pickup_latitude</th>\n",
       "      <th>pickup_longitude</th>\n",
       "      <th>dropoff_latitude</th>\n",
       "      <th>dropoff_longitude</th>\n",
       "    </tr>\n",
       "  </thead>\n",
       "  <tbody>\n",
       "    <tr>\n",
       "      <th>0</th>\n",
       "      <td>4016</td>\n",
       "      <td>2016-2-13 17:15:00</td>\n",
       "      <td>2016-2-13 17:45:00</td>\n",
       "      <td>1080.0</td>\n",
       "      <td>2.8</td>\n",
       "      <td>8</td>\n",
       "      <td>28</td>\n",
       "      <td>12.75</td>\n",
       "      <td>2.0</td>\n",
       "      <td>0.0</td>\n",
       "      <td>1.0</td>\n",
       "      <td>15.75</td>\n",
       "      <td>Credit Card</td>\n",
       "      <td>Unknown</td>\n",
       "      <td>210</td>\n",
       "      <td>470</td>\n",
       "      <td>411</td>\n",
       "      <td>545</td>\n",
       "    </tr>\n",
       "    <tr>\n",
       "      <th>1</th>\n",
       "      <td>4387</td>\n",
       "      <td>2016-6-16 20:30:00</td>\n",
       "      <td>2016-6-16 20:30:00</td>\n",
       "      <td>300.0</td>\n",
       "      <td>0.5</td>\n",
       "      <td>24</td>\n",
       "      <td>24</td>\n",
       "      <td>5.00</td>\n",
       "      <td>0.0</td>\n",
       "      <td>0.0</td>\n",
       "      <td>1.0</td>\n",
       "      <td>6.00</td>\n",
       "      <td>Cash</td>\n",
       "      <td>Unknown</td>\n",
       "      <td>255</td>\n",
       "      <td>300</td>\n",
       "      <td>753</td>\n",
       "      <td>551</td>\n",
       "    </tr>\n",
       "    <tr>\n",
       "      <th>2</th>\n",
       "      <td>4865</td>\n",
       "      <td>2016-7-14 15:45:00</td>\n",
       "      <td>2016-7-14 16:15:00</td>\n",
       "      <td>2340.0</td>\n",
       "      <td>11.0</td>\n",
       "      <td>28</td>\n",
       "      <td>56</td>\n",
       "      <td>30.50</td>\n",
       "      <td>6.2</td>\n",
       "      <td>0.0</td>\n",
       "      <td>0.0</td>\n",
       "      <td>37.20</td>\n",
       "      <td>Credit Card</td>\n",
       "      <td>Unknown</td>\n",
       "      <td>411</td>\n",
       "      <td>545</td>\n",
       "      <td>433</td>\n",
       "      <td>757</td>\n",
       "    </tr>\n",
       "    <tr>\n",
       "      <th>3</th>\n",
       "      <td>727</td>\n",
       "      <td>2016-3-14 03:00:00</td>\n",
       "      <td>2016-3-14 03:00:00</td>\n",
       "      <td>420.0</td>\n",
       "      <td>0.0</td>\n",
       "      <td>6</td>\n",
       "      <td>3</td>\n",
       "      <td>7.50</td>\n",
       "      <td>0.0</td>\n",
       "      <td>0.0</td>\n",
       "      <td>1.5</td>\n",
       "      <td>9.00</td>\n",
       "      <td>Cash</td>\n",
       "      <td>Taxi Affiliation Services</td>\n",
       "      <td>686</td>\n",
       "      <td>500</td>\n",
       "      <td>660</td>\n",
       "      <td>120</td>\n",
       "    </tr>\n",
       "    <tr>\n",
       "      <th>4</th>\n",
       "      <td>2452</td>\n",
       "      <td>2016-11-16 21:15:00</td>\n",
       "      <td>2016-11-16 21:15:00</td>\n",
       "      <td>600.0</td>\n",
       "      <td>1.6</td>\n",
       "      <td>Unknown</td>\n",
       "      <td>Unknown</td>\n",
       "      <td>8.25</td>\n",
       "      <td>3.0</td>\n",
       "      <td>0.0</td>\n",
       "      <td>1.0</td>\n",
       "      <td>12.25</td>\n",
       "      <td>Credit Card</td>\n",
       "      <td>Chicago Medallion Leasing INC</td>\n",
       "      <td>Unknown</td>\n",
       "      <td>Unknown</td>\n",
       "      <td>Unknown</td>\n",
       "      <td>Unknown</td>\n",
       "    </tr>\n",
       "  </tbody>\n",
       "</table>\n",
       "</div>"
      ],
      "text/plain": [
       "  taxi_id trip_start_timestamp   trip_end_timestamp  trip_seconds  trip_miles  \\\n",
       "0    4016   2016-2-13 17:15:00   2016-2-13 17:45:00        1080.0         2.8   \n",
       "1    4387   2016-6-16 20:30:00   2016-6-16 20:30:00         300.0         0.5   \n",
       "2    4865   2016-7-14 15:45:00   2016-7-14 16:15:00        2340.0        11.0   \n",
       "3     727   2016-3-14 03:00:00   2016-3-14 03:00:00         420.0         0.0   \n",
       "4    2452  2016-11-16 21:15:00  2016-11-16 21:15:00         600.0         1.6   \n",
       "\n",
       "  pickup_community_area dropoff_community_area   fare  tips  tolls  extras  \\\n",
       "0                     8                     28  12.75   2.0    0.0     1.0   \n",
       "1                    24                     24   5.00   0.0    0.0     1.0   \n",
       "2                    28                     56  30.50   6.2    0.0     0.0   \n",
       "3                     6                      3   7.50   0.0    0.0     1.5   \n",
       "4               Unknown                Unknown   8.25   3.0    0.0     1.0   \n",
       "\n",
       "   trip_total payment_type                        company pickup_latitude  \\\n",
       "0       15.75  Credit Card                        Unknown             210   \n",
       "1        6.00         Cash                        Unknown             255   \n",
       "2       37.20  Credit Card                        Unknown             411   \n",
       "3        9.00         Cash      Taxi Affiliation Services             686   \n",
       "4       12.25  Credit Card  Chicago Medallion Leasing INC         Unknown   \n",
       "\n",
       "  pickup_longitude dropoff_latitude dropoff_longitude  \n",
       "0              470              411               545  \n",
       "1              300              753               551  \n",
       "2              545              433               757  \n",
       "3              500              660               120  \n",
       "4          Unknown          Unknown           Unknown  "
      ]
     },
     "execution_count": 29,
     "metadata": {},
     "output_type": "execute_result"
    }
   ],
   "source": [
    "df.head()"
   ]
  },
  {
   "cell_type": "markdown",
   "metadata": {},
   "source": [
    "### same process is repeated for all four of pickup longitude and latitude and dropoff longitude and latitude"
   ]
  },
  {
   "cell_type": "code",
   "execution_count": 30,
   "metadata": {},
   "outputs": [],
   "source": [
    "with open(\"column_remapping.json\") as f_open:\n",
    "    column_id_map = json.load(f_open)\n",
    "pickup_latitude_id = column_id_map['pickup_latitude']\n",
    "list2=df.pickup_latitude.tolist()\n",
    "i=-1\n",
    "for x in list2:\n",
    "    i=i+1\n",
    "    if x=='Unknown':\n",
    "        list2[i]='10000'\n",
    "for i in range(len(list2)):\n",
    "    list2[i]=int(list2[i])\n",
    "for i in range(len(list2)):\n",
    "    list2[i]=str(list2[i])\n",
    "i=-1\n",
    "for x in list2:\n",
    "    i=i+1\n",
    "    for y in pickup_latitude_id:\n",
    "        if x==y:\n",
    "            list2[i]=pickup_latitude_id[y]\n",
    "for i in range(len(list2)):\n",
    "    list2[i]=float(list2[i])\n",
    "\n",
    "#same exact process as before so won't explain details again\n",
    "#except changing final answer from string to float so can graph these eventually\n",
    "#all in one shot this time"
   ]
  },
  {
   "cell_type": "code",
   "execution_count": 31,
   "metadata": {},
   "outputs": [
    {
     "data": {
      "text/plain": [
       "41.892507781"
      ]
     },
     "execution_count": 31,
     "metadata": {},
     "output_type": "execute_result"
    }
   ],
   "source": [
    "list2[0]"
   ]
  },
  {
   "cell_type": "code",
   "execution_count": 32,
   "metadata": {},
   "outputs": [],
   "source": [
    "df.pickup_latitude=list2"
   ]
  },
  {
   "cell_type": "code",
   "execution_count": 33,
   "metadata": {},
   "outputs": [],
   "source": [
    "pickuplatmean=df[df.pickup_latitude!=10000.0].pickup_latitude.mean()"
   ]
  },
  {
   "cell_type": "code",
   "execution_count": 34,
   "metadata": {},
   "outputs": [],
   "source": [
    "for i in range(len(list2)):\n",
    "          if list2[i]==10000.0:\n",
    "               list2[i]=pickuplatmean"
   ]
  },
  {
   "cell_type": "code",
   "execution_count": 35,
   "metadata": {},
   "outputs": [
    {
     "data": {
      "text/plain": [
       "41.892507781"
      ]
     },
     "execution_count": 35,
     "metadata": {},
     "output_type": "execute_result"
    }
   ],
   "source": [
    "list2[0]"
   ]
  },
  {
   "cell_type": "code",
   "execution_count": 36,
   "metadata": {},
   "outputs": [],
   "source": [
    "df.pickup_latitude=list2"
   ]
  },
  {
   "cell_type": "code",
   "execution_count": 37,
   "metadata": {},
   "outputs": [],
   "source": [
    "with open(\"column_remapping.json\") as f_open:\n",
    "    column_id_map = json.load(f_open)\n",
    "pickup_longitude_id = column_id_map['pickup_longitude']\n",
    "list3=df.pickup_longitude.tolist()\n",
    "i=-1\n",
    "for x in list3:\n",
    "    i=i+1\n",
    "    if x=='Unknown':\n",
    "        list3[i]='10000'\n",
    "for i in range(len(list3)):\n",
    "    list3[i]=int(list3[i])\n",
    "for i in range(len(list3)):\n",
    "    list3[i]=str(list3[i])\n",
    "i=-1\n",
    "for x in list3:\n",
    "    i=i+1\n",
    "    for y in pickup_longitude_id:\n",
    "        if x==y:\n",
    "            list3[i]=pickup_longitude_id[y]\n",
    "for i in range(len(list3)):\n",
    "    list3[i]=float(list3[i])\n",
    "\n"
   ]
  },
  {
   "cell_type": "code",
   "execution_count": 38,
   "metadata": {},
   "outputs": [
    {
     "data": {
      "text/plain": [
       "-87.626214906"
      ]
     },
     "execution_count": 38,
     "metadata": {},
     "output_type": "execute_result"
    }
   ],
   "source": [
    "list3[0]"
   ]
  },
  {
   "cell_type": "code",
   "execution_count": 39,
   "metadata": {},
   "outputs": [],
   "source": [
    "df.pickup_longitude=list3"
   ]
  },
  {
   "cell_type": "code",
   "execution_count": 40,
   "metadata": {},
   "outputs": [
    {
     "data": {
      "text/plain": [
       "-87.65903175066352"
      ]
     },
     "execution_count": 40,
     "metadata": {},
     "output_type": "execute_result"
    }
   ],
   "source": [
    "df[df.pickup_longitude!=10000.0].pickup_longitude.mean()"
   ]
  },
  {
   "cell_type": "code",
   "execution_count": 41,
   "metadata": {},
   "outputs": [],
   "source": [
    "pickuplongmean=df[df.pickup_longitude!=10000.0].pickup_longitude.mean()"
   ]
  },
  {
   "cell_type": "code",
   "execution_count": 42,
   "metadata": {},
   "outputs": [],
   "source": [
    "for i in range(len(list3)):\n",
    "          if list3[i]==10000.0:\n",
    "               list3[i]=pickuplongmean"
   ]
  },
  {
   "cell_type": "code",
   "execution_count": 43,
   "metadata": {},
   "outputs": [
    {
     "data": {
      "text/plain": [
       "-87.626214906"
      ]
     },
     "execution_count": 43,
     "metadata": {},
     "output_type": "execute_result"
    }
   ],
   "source": [
    "list3[0]"
   ]
  },
  {
   "cell_type": "code",
   "execution_count": 44,
   "metadata": {},
   "outputs": [],
   "source": [
    "df.pickup_longitude=list3"
   ]
  },
  {
   "cell_type": "code",
   "execution_count": 45,
   "metadata": {},
   "outputs": [],
   "source": [
    "with open(\"column_remapping.json\") as f_open:\n",
    "    column_id_map = json.load(f_open)\n",
    "dropoff_longitude_id = column_id_map['dropoff_longitude']\n",
    "list4=df.dropoff_longitude.tolist()\n",
    "i=-1\n",
    "for x in list4:\n",
    "    i=i+1\n",
    "    if x=='Unknown':\n",
    "        list4[i]='10000'\n",
    "for i in range(len(list4)):\n",
    "    list4[i]=int(list4[i])\n",
    "for i in range(len(list4)):\n",
    "    list4[i]=str(list4[i])\n",
    "i=-1\n",
    "for x in list4:\n",
    "    i=i+1\n",
    "    for y in dropoff_longitude_id:\n",
    "        if x==y:\n",
    "            list4[i]=dropoff_longitude_id[y]\n",
    "for i in range(len(list4)):\n",
    "    list4[i]=float(list4[i])\n",
    "\n"
   ]
  },
  {
   "cell_type": "code",
   "execution_count": 46,
   "metadata": {},
   "outputs": [
    {
     "data": {
      "text/plain": [
       "-87.642648998"
      ]
     },
     "execution_count": 46,
     "metadata": {},
     "output_type": "execute_result"
    }
   ],
   "source": [
    "list4[0]"
   ]
  },
  {
   "cell_type": "code",
   "execution_count": 47,
   "metadata": {},
   "outputs": [],
   "source": [
    "df.dropoff_longitude=list4"
   ]
  },
  {
   "cell_type": "code",
   "execution_count": 48,
   "metadata": {},
   "outputs": [
    {
     "data": {
      "text/plain": [
       "-87.65373579490085"
      ]
     },
     "execution_count": 48,
     "metadata": {},
     "output_type": "execute_result"
    }
   ],
   "source": [
    "df[df.dropoff_longitude!=10000.0].dropoff_longitude.mean()"
   ]
  },
  {
   "cell_type": "code",
   "execution_count": 49,
   "metadata": {},
   "outputs": [],
   "source": [
    "dropofflongmean=df[df.dropoff_longitude!=10000.0].dropoff_longitude.mean()"
   ]
  },
  {
   "cell_type": "code",
   "execution_count": 50,
   "metadata": {},
   "outputs": [],
   "source": [
    "for i in range(len(list4)):\n",
    "          if list4[i]==10000.0:\n",
    "               list4[i]=dropofflongmean"
   ]
  },
  {
   "cell_type": "code",
   "execution_count": 51,
   "metadata": {},
   "outputs": [
    {
     "data": {
      "text/plain": [
       "-87.642648998"
      ]
     },
     "execution_count": 51,
     "metadata": {},
     "output_type": "execute_result"
    }
   ],
   "source": [
    "list4[0]"
   ]
  },
  {
   "cell_type": "code",
   "execution_count": 52,
   "metadata": {},
   "outputs": [],
   "source": [
    "df.dropoff_longitude=list4"
   ]
  },
  {
   "cell_type": "code",
   "execution_count": 53,
   "metadata": {},
   "outputs": [],
   "source": [
    "with open(\"column_remapping.json\") as f_open:\n",
    "    column_id_map = json.load(f_open)\n",
    "dropoff_latitude_id = column_id_map['dropoff_latitude']\n",
    "list5=df.dropoff_latitude.tolist()\n",
    "i=-1\n",
    "for x in list5:\n",
    "    i=i+1\n",
    "    if x=='Unknown':\n",
    "        list5[i]='10000'\n",
    "for i in range(len(list5)):\n",
    "    list5[i]=int(list5[i])\n",
    "for i in range(len(list5)):\n",
    "    list5[i]=str(list5[i])\n",
    "i=-1\n",
    "for x in list5:\n",
    "    i=i+1\n",
    "    for y in dropoff_latitude_id:\n",
    "        if x==y:\n",
    "            list5[i]=dropoff_latitude_id[y]\n",
    "for i in range(len(list5)):\n",
    "    list5[i]=float(list5[i])\n"
   ]
  },
  {
   "cell_type": "code",
   "execution_count": 54,
   "metadata": {},
   "outputs": [
    {
     "data": {
      "text/plain": [
       "41.879255084"
      ]
     },
     "execution_count": 54,
     "metadata": {},
     "output_type": "execute_result"
    }
   ],
   "source": [
    "list5[0]"
   ]
  },
  {
   "cell_type": "code",
   "execution_count": 55,
   "metadata": {},
   "outputs": [],
   "source": [
    "df.dropoff_latitude=list5"
   ]
  },
  {
   "cell_type": "code",
   "execution_count": 56,
   "metadata": {},
   "outputs": [
    {
     "data": {
      "text/plain": [
       "41.900885537721386"
      ]
     },
     "execution_count": 56,
     "metadata": {},
     "output_type": "execute_result"
    }
   ],
   "source": [
    "df[df.dropoff_latitude!=10000.0].dropoff_latitude.mean()"
   ]
  },
  {
   "cell_type": "code",
   "execution_count": 57,
   "metadata": {},
   "outputs": [],
   "source": [
    "dropofflatmean=df[df.dropoff_latitude!=10000.0].dropoff_latitude.mean()"
   ]
  },
  {
   "cell_type": "code",
   "execution_count": 58,
   "metadata": {},
   "outputs": [],
   "source": [
    "for i in range(len(list5)):\n",
    "          if list5[i]==10000.0:\n",
    "               list5[i]=dropofflatmean"
   ]
  },
  {
   "cell_type": "code",
   "execution_count": 59,
   "metadata": {},
   "outputs": [
    {
     "data": {
      "text/plain": [
       "41.879255084"
      ]
     },
     "execution_count": 59,
     "metadata": {},
     "output_type": "execute_result"
    }
   ],
   "source": [
    "list5[0]"
   ]
  },
  {
   "cell_type": "code",
   "execution_count": 60,
   "metadata": {},
   "outputs": [],
   "source": [
    "df.dropoff_latitude=list5"
   ]
  },
  {
   "cell_type": "code",
   "execution_count": 61,
   "metadata": {},
   "outputs": [
    {
     "data": {
      "text/html": [
       "<div>\n",
       "<style scoped>\n",
       "    .dataframe tbody tr th:only-of-type {\n",
       "        vertical-align: middle;\n",
       "    }\n",
       "\n",
       "    .dataframe tbody tr th {\n",
       "        vertical-align: top;\n",
       "    }\n",
       "\n",
       "    .dataframe thead th {\n",
       "        text-align: right;\n",
       "    }\n",
       "</style>\n",
       "<table border=\"1\" class=\"dataframe\">\n",
       "  <thead>\n",
       "    <tr style=\"text-align: right;\">\n",
       "      <th></th>\n",
       "      <th>taxi_id</th>\n",
       "      <th>trip_start_timestamp</th>\n",
       "      <th>trip_end_timestamp</th>\n",
       "      <th>trip_seconds</th>\n",
       "      <th>trip_miles</th>\n",
       "      <th>pickup_community_area</th>\n",
       "      <th>dropoff_community_area</th>\n",
       "      <th>fare</th>\n",
       "      <th>tips</th>\n",
       "      <th>tolls</th>\n",
       "      <th>extras</th>\n",
       "      <th>trip_total</th>\n",
       "      <th>payment_type</th>\n",
       "      <th>company</th>\n",
       "      <th>pickup_latitude</th>\n",
       "      <th>pickup_longitude</th>\n",
       "      <th>dropoff_latitude</th>\n",
       "      <th>dropoff_longitude</th>\n",
       "    </tr>\n",
       "  </thead>\n",
       "  <tbody>\n",
       "    <tr>\n",
       "      <th>0</th>\n",
       "      <td>4016</td>\n",
       "      <td>2016-2-13 17:15:00</td>\n",
       "      <td>2016-2-13 17:45:00</td>\n",
       "      <td>1080.0</td>\n",
       "      <td>2.8</td>\n",
       "      <td>8</td>\n",
       "      <td>28</td>\n",
       "      <td>12.75</td>\n",
       "      <td>2.0</td>\n",
       "      <td>0.0</td>\n",
       "      <td>1.0</td>\n",
       "      <td>15.75</td>\n",
       "      <td>Credit Card</td>\n",
       "      <td>Unknown</td>\n",
       "      <td>41.892508</td>\n",
       "      <td>-87.626215</td>\n",
       "      <td>41.879255</td>\n",
       "      <td>-87.642649</td>\n",
       "    </tr>\n",
       "    <tr>\n",
       "      <th>1</th>\n",
       "      <td>4387</td>\n",
       "      <td>2016-6-16 20:30:00</td>\n",
       "      <td>2016-6-16 20:30:00</td>\n",
       "      <td>300.0</td>\n",
       "      <td>0.5</td>\n",
       "      <td>24</td>\n",
       "      <td>24</td>\n",
       "      <td>5.00</td>\n",
       "      <td>0.0</td>\n",
       "      <td>0.0</td>\n",
       "      <td>1.0</td>\n",
       "      <td>6.00</td>\n",
       "      <td>Cash</td>\n",
       "      <td>Unknown</td>\n",
       "      <td>41.908379</td>\n",
       "      <td>-87.670945</td>\n",
       "      <td>41.906026</td>\n",
       "      <td>-87.675312</td>\n",
       "    </tr>\n",
       "    <tr>\n",
       "      <th>2</th>\n",
       "      <td>4865</td>\n",
       "      <td>2016-7-14 15:45:00</td>\n",
       "      <td>2016-7-14 16:15:00</td>\n",
       "      <td>2340.0</td>\n",
       "      <td>11.0</td>\n",
       "      <td>28</td>\n",
       "      <td>56</td>\n",
       "      <td>30.50</td>\n",
       "      <td>6.2</td>\n",
       "      <td>0.0</td>\n",
       "      <td>0.0</td>\n",
       "      <td>37.20</td>\n",
       "      <td>Credit Card</td>\n",
       "      <td>Unknown</td>\n",
       "      <td>41.879255</td>\n",
       "      <td>-87.642649</td>\n",
       "      <td>41.785999</td>\n",
       "      <td>-87.750934</td>\n",
       "    </tr>\n",
       "    <tr>\n",
       "      <th>3</th>\n",
       "      <td>727</td>\n",
       "      <td>2016-3-14 03:00:00</td>\n",
       "      <td>2016-3-14 03:00:00</td>\n",
       "      <td>420.0</td>\n",
       "      <td>0.0</td>\n",
       "      <td>6</td>\n",
       "      <td>3</td>\n",
       "      <td>7.50</td>\n",
       "      <td>0.0</td>\n",
       "      <td>0.0</td>\n",
       "      <td>1.5</td>\n",
       "      <td>9.00</td>\n",
       "      <td>Cash</td>\n",
       "      <td>Taxi Affiliation Services</td>\n",
       "      <td>41.944227</td>\n",
       "      <td>-87.655998</td>\n",
       "      <td>41.965812</td>\n",
       "      <td>-87.655879</td>\n",
       "    </tr>\n",
       "    <tr>\n",
       "      <th>4</th>\n",
       "      <td>2452</td>\n",
       "      <td>2016-11-16 21:15:00</td>\n",
       "      <td>2016-11-16 21:15:00</td>\n",
       "      <td>600.0</td>\n",
       "      <td>1.6</td>\n",
       "      <td>Unknown</td>\n",
       "      <td>Unknown</td>\n",
       "      <td>8.25</td>\n",
       "      <td>3.0</td>\n",
       "      <td>0.0</td>\n",
       "      <td>1.0</td>\n",
       "      <td>12.25</td>\n",
       "      <td>Credit Card</td>\n",
       "      <td>Chicago Medallion Leasing INC</td>\n",
       "      <td>41.900879</td>\n",
       "      <td>-87.659032</td>\n",
       "      <td>41.900886</td>\n",
       "      <td>-87.653736</td>\n",
       "    </tr>\n",
       "  </tbody>\n",
       "</table>\n",
       "</div>"
      ],
      "text/plain": [
       "  taxi_id trip_start_timestamp   trip_end_timestamp  trip_seconds  trip_miles  \\\n",
       "0    4016   2016-2-13 17:15:00   2016-2-13 17:45:00        1080.0         2.8   \n",
       "1    4387   2016-6-16 20:30:00   2016-6-16 20:30:00         300.0         0.5   \n",
       "2    4865   2016-7-14 15:45:00   2016-7-14 16:15:00        2340.0        11.0   \n",
       "3     727   2016-3-14 03:00:00   2016-3-14 03:00:00         420.0         0.0   \n",
       "4    2452  2016-11-16 21:15:00  2016-11-16 21:15:00         600.0         1.6   \n",
       "\n",
       "  pickup_community_area dropoff_community_area   fare  tips  tolls  extras  \\\n",
       "0                     8                     28  12.75   2.0    0.0     1.0   \n",
       "1                    24                     24   5.00   0.0    0.0     1.0   \n",
       "2                    28                     56  30.50   6.2    0.0     0.0   \n",
       "3                     6                      3   7.50   0.0    0.0     1.5   \n",
       "4               Unknown                Unknown   8.25   3.0    0.0     1.0   \n",
       "\n",
       "   trip_total payment_type                        company  pickup_latitude  \\\n",
       "0       15.75  Credit Card                        Unknown        41.892508   \n",
       "1        6.00         Cash                        Unknown        41.908379   \n",
       "2       37.20  Credit Card                        Unknown        41.879255   \n",
       "3        9.00         Cash      Taxi Affiliation Services        41.944227   \n",
       "4       12.25  Credit Card  Chicago Medallion Leasing INC        41.900879   \n",
       "\n",
       "   pickup_longitude  dropoff_latitude  dropoff_longitude  \n",
       "0        -87.626215         41.879255         -87.642649  \n",
       "1        -87.670945         41.906026         -87.675312  \n",
       "2        -87.642649         41.785999         -87.750934  \n",
       "3        -87.655998         41.965812         -87.655879  \n",
       "4        -87.659032         41.900886         -87.653736  "
      ]
     },
     "execution_count": 61,
     "metadata": {},
     "output_type": "execute_result"
    }
   ],
   "source": [
    "df.head()"
   ]
  },
  {
   "cell_type": "code",
   "execution_count": 189,
   "metadata": {},
   "outputs": [
    {
     "data": {
      "text/html": [
       "<div>\n",
       "<style scoped>\n",
       "    .dataframe tbody tr th:only-of-type {\n",
       "        vertical-align: middle;\n",
       "    }\n",
       "\n",
       "    .dataframe tbody tr th {\n",
       "        vertical-align: top;\n",
       "    }\n",
       "\n",
       "    .dataframe thead th {\n",
       "        text-align: right;\n",
       "    }\n",
       "</style>\n",
       "<table border=\"1\" class=\"dataframe\">\n",
       "  <thead>\n",
       "    <tr style=\"text-align: right;\">\n",
       "      <th></th>\n",
       "      <th>taxi_id</th>\n",
       "      <th>trip_start_timestamp</th>\n",
       "      <th>trip_end_timestamp</th>\n",
       "      <th>trip_seconds</th>\n",
       "      <th>trip_miles</th>\n",
       "      <th>pickup_community_area</th>\n",
       "      <th>dropoff_community_area</th>\n",
       "      <th>fare</th>\n",
       "      <th>tips</th>\n",
       "      <th>tolls</th>\n",
       "      <th>extras</th>\n",
       "      <th>trip_total</th>\n",
       "      <th>payment_type</th>\n",
       "      <th>company</th>\n",
       "      <th>pickup_latitude</th>\n",
       "      <th>pickup_longitude</th>\n",
       "      <th>dropoff_latitude</th>\n",
       "      <th>dropoff_longitude</th>\n",
       "    </tr>\n",
       "  </thead>\n",
       "  <tbody>\n",
       "    <tr>\n",
       "      <th>2615738</th>\n",
       "      <td>4016</td>\n",
       "      <td>2016-2-13 17:15:00</td>\n",
       "      <td>2016-2-13 17:45:00</td>\n",
       "      <td>1080.0</td>\n",
       "      <td>2.8</td>\n",
       "      <td>8</td>\n",
       "      <td>28</td>\n",
       "      <td>12.75</td>\n",
       "      <td>2.0</td>\n",
       "      <td>0.0</td>\n",
       "      <td>1.0</td>\n",
       "      <td>15.75</td>\n",
       "      <td>Credit Card</td>\n",
       "      <td>Unknown</td>\n",
       "      <td>210</td>\n",
       "      <td>470</td>\n",
       "      <td>411</td>\n",
       "      <td>545</td>\n",
       "    </tr>\n",
       "    <tr>\n",
       "      <th>11107382</th>\n",
       "      <td>4387</td>\n",
       "      <td>2016-6-16 20:30:00</td>\n",
       "      <td>2016-6-16 20:30:00</td>\n",
       "      <td>300.0</td>\n",
       "      <td>0.5</td>\n",
       "      <td>24</td>\n",
       "      <td>24</td>\n",
       "      <td>5.00</td>\n",
       "      <td>0.0</td>\n",
       "      <td>0.0</td>\n",
       "      <td>1.0</td>\n",
       "      <td>6.00</td>\n",
       "      <td>Cash</td>\n",
       "      <td>Unknown</td>\n",
       "      <td>255</td>\n",
       "      <td>300</td>\n",
       "      <td>753</td>\n",
       "      <td>551</td>\n",
       "    </tr>\n",
       "    <tr>\n",
       "      <th>12285774</th>\n",
       "      <td>4865</td>\n",
       "      <td>2016-7-14 15:45:00</td>\n",
       "      <td>2016-7-14 16:15:00</td>\n",
       "      <td>2340.0</td>\n",
       "      <td>11.0</td>\n",
       "      <td>28</td>\n",
       "      <td>56</td>\n",
       "      <td>30.50</td>\n",
       "      <td>6.2</td>\n",
       "      <td>0.0</td>\n",
       "      <td>0.0</td>\n",
       "      <td>37.20</td>\n",
       "      <td>Credit Card</td>\n",
       "      <td>Unknown</td>\n",
       "      <td>411</td>\n",
       "      <td>545</td>\n",
       "      <td>433</td>\n",
       "      <td>757</td>\n",
       "    </tr>\n",
       "    <tr>\n",
       "      <th>4176652</th>\n",
       "      <td>727</td>\n",
       "      <td>2016-3-14 03:00:00</td>\n",
       "      <td>2016-3-14 03:00:00</td>\n",
       "      <td>420.0</td>\n",
       "      <td>0.0</td>\n",
       "      <td>6</td>\n",
       "      <td>3</td>\n",
       "      <td>7.50</td>\n",
       "      <td>0.0</td>\n",
       "      <td>0.0</td>\n",
       "      <td>1.5</td>\n",
       "      <td>9.00</td>\n",
       "      <td>Cash</td>\n",
       "      <td>Taxi Affiliation Services</td>\n",
       "      <td>686</td>\n",
       "      <td>500</td>\n",
       "      <td>660</td>\n",
       "      <td>120</td>\n",
       "    </tr>\n",
       "    <tr>\n",
       "      <th>18263903</th>\n",
       "      <td>2452</td>\n",
       "      <td>2016-11-16 21:15:00</td>\n",
       "      <td>2016-11-16 21:15:00</td>\n",
       "      <td>600.0</td>\n",
       "      <td>1.6</td>\n",
       "      <td>Unknown</td>\n",
       "      <td>Unknown</td>\n",
       "      <td>8.25</td>\n",
       "      <td>3.0</td>\n",
       "      <td>0.0</td>\n",
       "      <td>1.0</td>\n",
       "      <td>12.25</td>\n",
       "      <td>Credit Card</td>\n",
       "      <td>Chicago Medallion Leasing INC</td>\n",
       "      <td>Unknown</td>\n",
       "      <td>Unknown</td>\n",
       "      <td>Unknown</td>\n",
       "      <td>Unknown</td>\n",
       "    </tr>\n",
       "  </tbody>\n",
       "</table>\n",
       "</div>"
      ],
      "text/plain": [
       "         taxi_id trip_start_timestamp   trip_end_timestamp  trip_seconds  \\\n",
       "2615738     4016   2016-2-13 17:15:00   2016-2-13 17:45:00        1080.0   \n",
       "11107382    4387   2016-6-16 20:30:00   2016-6-16 20:30:00         300.0   \n",
       "12285774    4865   2016-7-14 15:45:00   2016-7-14 16:15:00        2340.0   \n",
       "4176652      727   2016-3-14 03:00:00   2016-3-14 03:00:00         420.0   \n",
       "18263903    2452  2016-11-16 21:15:00  2016-11-16 21:15:00         600.0   \n",
       "\n",
       "          trip_miles pickup_community_area dropoff_community_area   fare  \\\n",
       "2615738          2.8                     8                     28  12.75   \n",
       "11107382         0.5                    24                     24   5.00   \n",
       "12285774        11.0                    28                     56  30.50   \n",
       "4176652          0.0                     6                      3   7.50   \n",
       "18263903         1.6               Unknown                Unknown   8.25   \n",
       "\n",
       "          tips  tolls  extras  trip_total payment_type  \\\n",
       "2615738    2.0    0.0     1.0       15.75  Credit Card   \n",
       "11107382   0.0    0.0     1.0        6.00         Cash   \n",
       "12285774   6.2    0.0     0.0       37.20  Credit Card   \n",
       "4176652    0.0    0.0     1.5        9.00         Cash   \n",
       "18263903   3.0    0.0     1.0       12.25  Credit Card   \n",
       "\n",
       "                                company pickup_latitude pickup_longitude  \\\n",
       "2615738                         Unknown             210              470   \n",
       "11107382                        Unknown             255              300   \n",
       "12285774                        Unknown             411              545   \n",
       "4176652       Taxi Affiliation Services             686              500   \n",
       "18263903  Chicago Medallion Leasing INC         Unknown          Unknown   \n",
       "\n",
       "         dropoff_latitude dropoff_longitude  \n",
       "2615738               411               545  \n",
       "11107382              753               551  \n",
       "12285774              433               757  \n",
       "4176652               660               120  \n",
       "18263903          Unknown           Unknown  "
      ]
     },
     "execution_count": 189,
     "metadata": {},
     "output_type": "execute_result"
    }
   ],
   "source": [
    "dfbefore.head()"
   ]
  },
  {
   "cell_type": "code",
   "execution_count": 62,
   "metadata": {},
   "outputs": [
    {
     "data": {
      "text/plain": [
       "taxi_id                   0\n",
       "trip_start_timestamp      0\n",
       "trip_end_timestamp        0\n",
       "trip_seconds              0\n",
       "trip_miles                0\n",
       "pickup_community_area     0\n",
       "dropoff_community_area    0\n",
       "fare                      0\n",
       "tips                      0\n",
       "tolls                     0\n",
       "extras                    0\n",
       "trip_total                0\n",
       "payment_type              0\n",
       "company                   0\n",
       "pickup_latitude           0\n",
       "pickup_longitude          0\n",
       "dropoff_latitude          0\n",
       "dropoff_longitude         0\n",
       "dtype: int64"
      ]
     },
     "execution_count": 62,
     "metadata": {},
     "output_type": "execute_result"
    }
   ],
   "source": [
    "df.isna().sum()"
   ]
  },
  {
   "cell_type": "markdown",
   "metadata": {},
   "source": [
    "# NaN cleanup finished. Now lets add some new columns to make it easier to find interesting things"
   ]
  },
  {
   "cell_type": "code",
   "execution_count": 63,
   "metadata": {},
   "outputs": [],
   "source": [
    "df[['date_start','time_start']]=df.trip_start_timestamp.str.split(\" \",expand=True)"
   ]
  },
  {
   "cell_type": "code",
   "execution_count": 64,
   "metadata": {},
   "outputs": [],
   "source": [
    "df[['date_end','time_end']]=df.trip_end_timestamp.str.split(\" \",expand=True)"
   ]
  },
  {
   "cell_type": "code",
   "execution_count": 65,
   "metadata": {},
   "outputs": [
    {
     "data": {
      "text/html": [
       "<div>\n",
       "<style scoped>\n",
       "    .dataframe tbody tr th:only-of-type {\n",
       "        vertical-align: middle;\n",
       "    }\n",
       "\n",
       "    .dataframe tbody tr th {\n",
       "        vertical-align: top;\n",
       "    }\n",
       "\n",
       "    .dataframe thead th {\n",
       "        text-align: right;\n",
       "    }\n",
       "</style>\n",
       "<table border=\"1\" class=\"dataframe\">\n",
       "  <thead>\n",
       "    <tr style=\"text-align: right;\">\n",
       "      <th></th>\n",
       "      <th>taxi_id</th>\n",
       "      <th>trip_start_timestamp</th>\n",
       "      <th>trip_end_timestamp</th>\n",
       "      <th>trip_seconds</th>\n",
       "      <th>trip_miles</th>\n",
       "      <th>pickup_community_area</th>\n",
       "      <th>dropoff_community_area</th>\n",
       "      <th>fare</th>\n",
       "      <th>tips</th>\n",
       "      <th>tolls</th>\n",
       "      <th>...</th>\n",
       "      <th>payment_type</th>\n",
       "      <th>company</th>\n",
       "      <th>pickup_latitude</th>\n",
       "      <th>pickup_longitude</th>\n",
       "      <th>dropoff_latitude</th>\n",
       "      <th>dropoff_longitude</th>\n",
       "      <th>date_start</th>\n",
       "      <th>time_start</th>\n",
       "      <th>date_end</th>\n",
       "      <th>time_end</th>\n",
       "    </tr>\n",
       "  </thead>\n",
       "  <tbody>\n",
       "    <tr>\n",
       "      <th>0</th>\n",
       "      <td>4016</td>\n",
       "      <td>2016-2-13 17:15:00</td>\n",
       "      <td>2016-2-13 17:45:00</td>\n",
       "      <td>1080.0</td>\n",
       "      <td>2.8</td>\n",
       "      <td>8</td>\n",
       "      <td>28</td>\n",
       "      <td>12.75</td>\n",
       "      <td>2.0</td>\n",
       "      <td>0.0</td>\n",
       "      <td>...</td>\n",
       "      <td>Credit Card</td>\n",
       "      <td>Unknown</td>\n",
       "      <td>41.892508</td>\n",
       "      <td>-87.626215</td>\n",
       "      <td>41.879255</td>\n",
       "      <td>-87.642649</td>\n",
       "      <td>2016-2-13</td>\n",
       "      <td>17:15:00</td>\n",
       "      <td>2016-2-13</td>\n",
       "      <td>17:45:00</td>\n",
       "    </tr>\n",
       "    <tr>\n",
       "      <th>1</th>\n",
       "      <td>4387</td>\n",
       "      <td>2016-6-16 20:30:00</td>\n",
       "      <td>2016-6-16 20:30:00</td>\n",
       "      <td>300.0</td>\n",
       "      <td>0.5</td>\n",
       "      <td>24</td>\n",
       "      <td>24</td>\n",
       "      <td>5.00</td>\n",
       "      <td>0.0</td>\n",
       "      <td>0.0</td>\n",
       "      <td>...</td>\n",
       "      <td>Cash</td>\n",
       "      <td>Unknown</td>\n",
       "      <td>41.908379</td>\n",
       "      <td>-87.670945</td>\n",
       "      <td>41.906026</td>\n",
       "      <td>-87.675312</td>\n",
       "      <td>2016-6-16</td>\n",
       "      <td>20:30:00</td>\n",
       "      <td>2016-6-16</td>\n",
       "      <td>20:30:00</td>\n",
       "    </tr>\n",
       "    <tr>\n",
       "      <th>2</th>\n",
       "      <td>4865</td>\n",
       "      <td>2016-7-14 15:45:00</td>\n",
       "      <td>2016-7-14 16:15:00</td>\n",
       "      <td>2340.0</td>\n",
       "      <td>11.0</td>\n",
       "      <td>28</td>\n",
       "      <td>56</td>\n",
       "      <td>30.50</td>\n",
       "      <td>6.2</td>\n",
       "      <td>0.0</td>\n",
       "      <td>...</td>\n",
       "      <td>Credit Card</td>\n",
       "      <td>Unknown</td>\n",
       "      <td>41.879255</td>\n",
       "      <td>-87.642649</td>\n",
       "      <td>41.785999</td>\n",
       "      <td>-87.750934</td>\n",
       "      <td>2016-7-14</td>\n",
       "      <td>15:45:00</td>\n",
       "      <td>2016-7-14</td>\n",
       "      <td>16:15:00</td>\n",
       "    </tr>\n",
       "    <tr>\n",
       "      <th>3</th>\n",
       "      <td>727</td>\n",
       "      <td>2016-3-14 03:00:00</td>\n",
       "      <td>2016-3-14 03:00:00</td>\n",
       "      <td>420.0</td>\n",
       "      <td>0.0</td>\n",
       "      <td>6</td>\n",
       "      <td>3</td>\n",
       "      <td>7.50</td>\n",
       "      <td>0.0</td>\n",
       "      <td>0.0</td>\n",
       "      <td>...</td>\n",
       "      <td>Cash</td>\n",
       "      <td>Taxi Affiliation Services</td>\n",
       "      <td>41.944227</td>\n",
       "      <td>-87.655998</td>\n",
       "      <td>41.965812</td>\n",
       "      <td>-87.655879</td>\n",
       "      <td>2016-3-14</td>\n",
       "      <td>03:00:00</td>\n",
       "      <td>2016-3-14</td>\n",
       "      <td>03:00:00</td>\n",
       "    </tr>\n",
       "    <tr>\n",
       "      <th>4</th>\n",
       "      <td>2452</td>\n",
       "      <td>2016-11-16 21:15:00</td>\n",
       "      <td>2016-11-16 21:15:00</td>\n",
       "      <td>600.0</td>\n",
       "      <td>1.6</td>\n",
       "      <td>Unknown</td>\n",
       "      <td>Unknown</td>\n",
       "      <td>8.25</td>\n",
       "      <td>3.0</td>\n",
       "      <td>0.0</td>\n",
       "      <td>...</td>\n",
       "      <td>Credit Card</td>\n",
       "      <td>Chicago Medallion Leasing INC</td>\n",
       "      <td>41.900879</td>\n",
       "      <td>-87.659032</td>\n",
       "      <td>41.900886</td>\n",
       "      <td>-87.653736</td>\n",
       "      <td>2016-11-16</td>\n",
       "      <td>21:15:00</td>\n",
       "      <td>2016-11-16</td>\n",
       "      <td>21:15:00</td>\n",
       "    </tr>\n",
       "  </tbody>\n",
       "</table>\n",
       "<p>5 rows × 22 columns</p>\n",
       "</div>"
      ],
      "text/plain": [
       "  taxi_id trip_start_timestamp   trip_end_timestamp  trip_seconds  trip_miles  \\\n",
       "0    4016   2016-2-13 17:15:00   2016-2-13 17:45:00        1080.0         2.8   \n",
       "1    4387   2016-6-16 20:30:00   2016-6-16 20:30:00         300.0         0.5   \n",
       "2    4865   2016-7-14 15:45:00   2016-7-14 16:15:00        2340.0        11.0   \n",
       "3     727   2016-3-14 03:00:00   2016-3-14 03:00:00         420.0         0.0   \n",
       "4    2452  2016-11-16 21:15:00  2016-11-16 21:15:00         600.0         1.6   \n",
       "\n",
       "  pickup_community_area dropoff_community_area   fare  tips  tolls    ...     \\\n",
       "0                     8                     28  12.75   2.0    0.0    ...      \n",
       "1                    24                     24   5.00   0.0    0.0    ...      \n",
       "2                    28                     56  30.50   6.2    0.0    ...      \n",
       "3                     6                      3   7.50   0.0    0.0    ...      \n",
       "4               Unknown                Unknown   8.25   3.0    0.0    ...      \n",
       "\n",
       "   payment_type                        company pickup_latitude  \\\n",
       "0   Credit Card                        Unknown       41.892508   \n",
       "1          Cash                        Unknown       41.908379   \n",
       "2   Credit Card                        Unknown       41.879255   \n",
       "3          Cash      Taxi Affiliation Services       41.944227   \n",
       "4   Credit Card  Chicago Medallion Leasing INC       41.900879   \n",
       "\n",
       "  pickup_longitude  dropoff_latitude  dropoff_longitude  date_start  \\\n",
       "0       -87.626215         41.879255         -87.642649   2016-2-13   \n",
       "1       -87.670945         41.906026         -87.675312   2016-6-16   \n",
       "2       -87.642649         41.785999         -87.750934   2016-7-14   \n",
       "3       -87.655998         41.965812         -87.655879   2016-3-14   \n",
       "4       -87.659032         41.900886         -87.653736  2016-11-16   \n",
       "\n",
       "   time_start    date_end  time_end  \n",
       "0    17:15:00   2016-2-13  17:45:00  \n",
       "1    20:30:00   2016-6-16  20:30:00  \n",
       "2    15:45:00   2016-7-14  16:15:00  \n",
       "3    03:00:00   2016-3-14  03:00:00  \n",
       "4    21:15:00  2016-11-16  21:15:00  \n",
       "\n",
       "[5 rows x 22 columns]"
      ]
     },
     "execution_count": 65,
     "metadata": {},
     "output_type": "execute_result"
    }
   ],
   "source": [
    "df.head()\n",
    "#split up the timestamps into separate dates and times"
   ]
  },
  {
   "cell_type": "code",
   "execution_count": 66,
   "metadata": {},
   "outputs": [],
   "source": [
    "datelist=[]\n",
    "for x in range(len(df.date_start)):\n",
    "    datelist.append(datetime.datetime.strptime(df.date_start.values[x],'%Y-%m-%d'))\n",
    "for x in range(len(datelist)):\n",
    "    datelist[x]=datetime.datetime.isoweekday(datelist[x])\n",
    "for x in range(len(datelist)):\n",
    "    if datelist[x]>5:\n",
    "        datelist[x]='Weekend'\n",
    "    else:\n",
    "        datelist[x]='Weekday'\n",
    "#make the start date column into a new list with datetime.dates\n",
    "#use datetime isoweekday to specificy if one thing is a weekday"
   ]
  },
  {
   "cell_type": "code",
   "execution_count": 67,
   "metadata": {},
   "outputs": [
    {
     "data": {
      "text/plain": [
       "'Weekend'"
      ]
     },
     "execution_count": 67,
     "metadata": {},
     "output_type": "execute_result"
    }
   ],
   "source": [
    "datelist[0]"
   ]
  },
  {
   "cell_type": "code",
   "execution_count": 68,
   "metadata": {},
   "outputs": [],
   "source": [
    "df['Day_of_week']=datelist"
   ]
  },
  {
   "cell_type": "code",
   "execution_count": 69,
   "metadata": {},
   "outputs": [
    {
     "data": {
      "text/plain": [
       "Day_of_week\n",
       "Weekday    1467801\n",
       "Weekend     518815\n",
       "Name: Day_of_week, dtype: int64"
      ]
     },
     "execution_count": 69,
     "metadata": {},
     "output_type": "execute_result"
    }
   ],
   "source": [
    "df.groupby('Day_of_week')['Day_of_week'].count()"
   ]
  },
  {
   "cell_type": "code",
   "execution_count": 70,
   "metadata": {},
   "outputs": [
    {
     "data": {
      "text/html": [
       "<div>\n",
       "<style scoped>\n",
       "    .dataframe tbody tr th:only-of-type {\n",
       "        vertical-align: middle;\n",
       "    }\n",
       "\n",
       "    .dataframe tbody tr th {\n",
       "        vertical-align: top;\n",
       "    }\n",
       "\n",
       "    .dataframe thead th {\n",
       "        text-align: right;\n",
       "    }\n",
       "</style>\n",
       "<table border=\"1\" class=\"dataframe\">\n",
       "  <thead>\n",
       "    <tr style=\"text-align: right;\">\n",
       "      <th></th>\n",
       "      <th>taxi_id</th>\n",
       "      <th>trip_start_timestamp</th>\n",
       "      <th>trip_end_timestamp</th>\n",
       "      <th>trip_seconds</th>\n",
       "      <th>trip_miles</th>\n",
       "      <th>pickup_community_area</th>\n",
       "      <th>dropoff_community_area</th>\n",
       "      <th>fare</th>\n",
       "      <th>tips</th>\n",
       "      <th>tolls</th>\n",
       "      <th>...</th>\n",
       "      <th>company</th>\n",
       "      <th>pickup_latitude</th>\n",
       "      <th>pickup_longitude</th>\n",
       "      <th>dropoff_latitude</th>\n",
       "      <th>dropoff_longitude</th>\n",
       "      <th>date_start</th>\n",
       "      <th>time_start</th>\n",
       "      <th>date_end</th>\n",
       "      <th>time_end</th>\n",
       "      <th>Day_of_week</th>\n",
       "    </tr>\n",
       "  </thead>\n",
       "  <tbody>\n",
       "    <tr>\n",
       "      <th>0</th>\n",
       "      <td>4016</td>\n",
       "      <td>2016-2-13 17:15:00</td>\n",
       "      <td>2016-2-13 17:45:00</td>\n",
       "      <td>1080.0</td>\n",
       "      <td>2.8</td>\n",
       "      <td>8</td>\n",
       "      <td>28</td>\n",
       "      <td>12.75</td>\n",
       "      <td>2.0</td>\n",
       "      <td>0.0</td>\n",
       "      <td>...</td>\n",
       "      <td>Unknown</td>\n",
       "      <td>41.892508</td>\n",
       "      <td>-87.626215</td>\n",
       "      <td>41.879255</td>\n",
       "      <td>-87.642649</td>\n",
       "      <td>2016-2-13</td>\n",
       "      <td>17:15:00</td>\n",
       "      <td>2016-2-13</td>\n",
       "      <td>17:45:00</td>\n",
       "      <td>Weekend</td>\n",
       "    </tr>\n",
       "    <tr>\n",
       "      <th>1</th>\n",
       "      <td>4387</td>\n",
       "      <td>2016-6-16 20:30:00</td>\n",
       "      <td>2016-6-16 20:30:00</td>\n",
       "      <td>300.0</td>\n",
       "      <td>0.5</td>\n",
       "      <td>24</td>\n",
       "      <td>24</td>\n",
       "      <td>5.00</td>\n",
       "      <td>0.0</td>\n",
       "      <td>0.0</td>\n",
       "      <td>...</td>\n",
       "      <td>Unknown</td>\n",
       "      <td>41.908379</td>\n",
       "      <td>-87.670945</td>\n",
       "      <td>41.906026</td>\n",
       "      <td>-87.675312</td>\n",
       "      <td>2016-6-16</td>\n",
       "      <td>20:30:00</td>\n",
       "      <td>2016-6-16</td>\n",
       "      <td>20:30:00</td>\n",
       "      <td>Weekday</td>\n",
       "    </tr>\n",
       "    <tr>\n",
       "      <th>2</th>\n",
       "      <td>4865</td>\n",
       "      <td>2016-7-14 15:45:00</td>\n",
       "      <td>2016-7-14 16:15:00</td>\n",
       "      <td>2340.0</td>\n",
       "      <td>11.0</td>\n",
       "      <td>28</td>\n",
       "      <td>56</td>\n",
       "      <td>30.50</td>\n",
       "      <td>6.2</td>\n",
       "      <td>0.0</td>\n",
       "      <td>...</td>\n",
       "      <td>Unknown</td>\n",
       "      <td>41.879255</td>\n",
       "      <td>-87.642649</td>\n",
       "      <td>41.785999</td>\n",
       "      <td>-87.750934</td>\n",
       "      <td>2016-7-14</td>\n",
       "      <td>15:45:00</td>\n",
       "      <td>2016-7-14</td>\n",
       "      <td>16:15:00</td>\n",
       "      <td>Weekday</td>\n",
       "    </tr>\n",
       "    <tr>\n",
       "      <th>3</th>\n",
       "      <td>727</td>\n",
       "      <td>2016-3-14 03:00:00</td>\n",
       "      <td>2016-3-14 03:00:00</td>\n",
       "      <td>420.0</td>\n",
       "      <td>0.0</td>\n",
       "      <td>6</td>\n",
       "      <td>3</td>\n",
       "      <td>7.50</td>\n",
       "      <td>0.0</td>\n",
       "      <td>0.0</td>\n",
       "      <td>...</td>\n",
       "      <td>Taxi Affiliation Services</td>\n",
       "      <td>41.944227</td>\n",
       "      <td>-87.655998</td>\n",
       "      <td>41.965812</td>\n",
       "      <td>-87.655879</td>\n",
       "      <td>2016-3-14</td>\n",
       "      <td>03:00:00</td>\n",
       "      <td>2016-3-14</td>\n",
       "      <td>03:00:00</td>\n",
       "      <td>Weekday</td>\n",
       "    </tr>\n",
       "    <tr>\n",
       "      <th>4</th>\n",
       "      <td>2452</td>\n",
       "      <td>2016-11-16 21:15:00</td>\n",
       "      <td>2016-11-16 21:15:00</td>\n",
       "      <td>600.0</td>\n",
       "      <td>1.6</td>\n",
       "      <td>Unknown</td>\n",
       "      <td>Unknown</td>\n",
       "      <td>8.25</td>\n",
       "      <td>3.0</td>\n",
       "      <td>0.0</td>\n",
       "      <td>...</td>\n",
       "      <td>Chicago Medallion Leasing INC</td>\n",
       "      <td>41.900879</td>\n",
       "      <td>-87.659032</td>\n",
       "      <td>41.900886</td>\n",
       "      <td>-87.653736</td>\n",
       "      <td>2016-11-16</td>\n",
       "      <td>21:15:00</td>\n",
       "      <td>2016-11-16</td>\n",
       "      <td>21:15:00</td>\n",
       "      <td>Weekday</td>\n",
       "    </tr>\n",
       "  </tbody>\n",
       "</table>\n",
       "<p>5 rows × 23 columns</p>\n",
       "</div>"
      ],
      "text/plain": [
       "  taxi_id trip_start_timestamp   trip_end_timestamp  trip_seconds  trip_miles  \\\n",
       "0    4016   2016-2-13 17:15:00   2016-2-13 17:45:00        1080.0         2.8   \n",
       "1    4387   2016-6-16 20:30:00   2016-6-16 20:30:00         300.0         0.5   \n",
       "2    4865   2016-7-14 15:45:00   2016-7-14 16:15:00        2340.0        11.0   \n",
       "3     727   2016-3-14 03:00:00   2016-3-14 03:00:00         420.0         0.0   \n",
       "4    2452  2016-11-16 21:15:00  2016-11-16 21:15:00         600.0         1.6   \n",
       "\n",
       "  pickup_community_area dropoff_community_area   fare  tips  tolls  \\\n",
       "0                     8                     28  12.75   2.0    0.0   \n",
       "1                    24                     24   5.00   0.0    0.0   \n",
       "2                    28                     56  30.50   6.2    0.0   \n",
       "3                     6                      3   7.50   0.0    0.0   \n",
       "4               Unknown                Unknown   8.25   3.0    0.0   \n",
       "\n",
       "      ...                            company  pickup_latitude  \\\n",
       "0     ...                            Unknown        41.892508   \n",
       "1     ...                            Unknown        41.908379   \n",
       "2     ...                            Unknown        41.879255   \n",
       "3     ...          Taxi Affiliation Services        41.944227   \n",
       "4     ...      Chicago Medallion Leasing INC        41.900879   \n",
       "\n",
       "  pickup_longitude dropoff_latitude  dropoff_longitude  date_start  \\\n",
       "0       -87.626215        41.879255         -87.642649   2016-2-13   \n",
       "1       -87.670945        41.906026         -87.675312   2016-6-16   \n",
       "2       -87.642649        41.785999         -87.750934   2016-7-14   \n",
       "3       -87.655998        41.965812         -87.655879   2016-3-14   \n",
       "4       -87.659032        41.900886         -87.653736  2016-11-16   \n",
       "\n",
       "   time_start    date_end  time_end Day_of_week  \n",
       "0    17:15:00   2016-2-13  17:45:00     Weekend  \n",
       "1    20:30:00   2016-6-16  20:30:00     Weekday  \n",
       "2    15:45:00   2016-7-14  16:15:00     Weekday  \n",
       "3    03:00:00   2016-3-14  03:00:00     Weekday  \n",
       "4    21:15:00  2016-11-16  21:15:00     Weekday  \n",
       "\n",
       "[5 rows x 23 columns]"
      ]
     },
     "execution_count": 70,
     "metadata": {},
     "output_type": "execute_result"
    }
   ],
   "source": [
    "df.head()"
   ]
  },
  {
   "cell_type": "markdown",
   "metadata": {},
   "source": [
    "## Finding Number 1 - Best location to make the most money"
   ]
  },
  {
   "cell_type": "code",
   "execution_count": 71,
   "metadata": {},
   "outputs": [],
   "source": [
    "import geopandas as gpd\n",
    "import descartes\n",
    "from shapely.geometry import Point, Polygon \n",
    "#import geopandas to make a map with chicago to see density of where cabs are\n",
    "#must download geopnadas and descartes library to use"
   ]
  },
  {
   "cell_type": "code",
   "execution_count": 72,
   "metadata": {},
   "outputs": [],
   "source": [
    "map1=gpd.read_file('geo_export_14fc79b6-5fbf-426a-9691-2408ba6973c8.shp')\n",
    "#shapefile downloaded from chicago url"
   ]
  },
  {
   "cell_type": "code",
   "execution_count": 73,
   "metadata": {},
   "outputs": [],
   "source": [
    "geo=[Point(xy) for xy in zip(df.pickup_longitude,df.pickup_latitude)]\n",
    "#using point to make a list of all the points for pickup"
   ]
  },
  {
   "cell_type": "code",
   "execution_count": 74,
   "metadata": {},
   "outputs": [],
   "source": [
    "geo2=[Point(xy) for xy in zip(df.dropoff_longitude,df.dropoff_latitude)]\n",
    "#using point to make a list of all the points for dropoff"
   ]
  },
  {
   "cell_type": "code",
   "execution_count": 75,
   "metadata": {},
   "outputs": [],
   "source": [
    "geodf=gpd.GeoDataFrame(df,crs=\"EPSG:4326\",geometry=geo)\n",
    "#setting the right longitude/latitude identifier"
   ]
  },
  {
   "cell_type": "code",
   "execution_count": 76,
   "metadata": {},
   "outputs": [],
   "source": [
    "geodf2=gpd.GeoDataFrame(df,crs=\"EPSG:4326\",geometry=geo2)\n",
    "#setting the right longitude/latitude identifier"
   ]
  },
  {
   "cell_type": "code",
   "execution_count": 77,
   "metadata": {
    "scrolled": false
   },
   "outputs": [
    {
     "data": {
      "text/plain": [
       "<matplotlib.axes._subplots.AxesSubplot at 0x1968360a898>"
      ]
     },
     "execution_count": 77,
     "metadata": {},
     "output_type": "execute_result"
    },
    {
     "data": {
      "text/plain": [
       "<matplotlib.axes._subplots.AxesSubplot at 0x1968360a898>"
      ]
     },
     "execution_count": 77,
     "metadata": {},
     "output_type": "execute_result"
    },
    {
     "data": {
      "text/plain": [
       "<matplotlib.axes._subplots.AxesSubplot at 0x1968360a898>"
      ]
     },
     "execution_count": 77,
     "metadata": {},
     "output_type": "execute_result"
    },
    {
     "data": {
      "text/plain": [
       "<matplotlib.legend.Legend at 0x19682f770f0>"
      ]
     },
     "execution_count": 77,
     "metadata": {},
     "output_type": "execute_result"
    },
    {
     "data": {
      "image/png": "[encoded data removed]",
      "text/plain": [
       "<Figure size 1224x1224 with 1 Axes>"
      ]
     },
     "metadata": {
      "needs_background": "light"
     },
     "output_type": "display_data"
    }
   ],
   "source": [
    "fig,ax=plt.subplots(figsize=(17,17))\n",
    "map1.plot(ax=ax,color='grey')\n",
    "geodf.plot(ax=ax,markersize=20,color='red',marker=\"o\",label='pickup')\n",
    "geodf2.plot(ax=ax,markersize=20,color='blue',marker=\"^\",label='dropoff')\n",
    "plt.legend(prop={'size':10})\n",
    "#chicago is located in northeast here"
   ]
  },
  {
   "cell_type": "code",
   "execution_count": 78,
   "metadata": {},
   "outputs": [
    {
     "data": {
      "text/plain": [
       "<matplotlib.axes._subplots.AxesSubplot at 0x1968302e9b0>"
      ]
     },
     "execution_count": 78,
     "metadata": {},
     "output_type": "execute_result"
    },
    {
     "data": {
      "image/png": "[encoded data removed]",
      "text/plain": [
       "<Figure size 432x288 with 1 Axes>"
      ]
     },
     "metadata": {
      "needs_background": "light"
     },
     "output_type": "display_data"
    }
   ],
   "source": [
    "df.plot(kind='scatter',x='pickup_longitude',y='pickup_latitude')\n",
    "#just to better show the density"
   ]
  },
  {
   "cell_type": "markdown",
   "metadata": {},
   "source": [
    "### From the previous charts, overall majority of rides and business occur in Chicago, which makes sense. Pickup and dropoff locations are pretty close to one another"
   ]
  },
  {
   "cell_type": "code",
   "execution_count": 79,
   "metadata": {},
   "outputs": [],
   "source": [
    "df['pickup_latitude_cut']=pd.cut(df.pickup_latitude, bins=(41,41.75,41.8,41.85,41.9,42,45))"
   ]
  },
  {
   "cell_type": "code",
   "execution_count": 80,
   "metadata": {},
   "outputs": [
    {
     "data": {
      "text/plain": [
       "<matplotlib.axes._subplots.AxesSubplot at 0x19682314f60>"
      ]
     },
     "execution_count": 80,
     "metadata": {},
     "output_type": "execute_result"
    },
    {
     "data": {
      "image/png": "[encoded data removed]",
      "text/plain": [
       "<Figure size 432x288 with 1 Axes>"
      ]
     },
     "metadata": {
      "needs_background": "light"
     },
     "output_type": "display_data"
    }
   ],
   "source": [
    "sns.countplot(x='pickup_latitude_cut',data=df)"
   ]
  },
  {
   "cell_type": "markdown",
   "metadata": {},
   "source": [
    "### Trips that start south of Chicago are about twice as long in length and seconds"
   ]
  },
  {
   "cell_type": "code",
   "execution_count": 81,
   "metadata": {},
   "outputs": [
    {
     "name": "stderr",
     "output_type": "stream",
     "text": [
      "C:\\Users\\Robby Konrath\\Documents\\Python\\lib\\site-packages\\scipy\\stats\\stats.py:1713: FutureWarning: Using a non-tuple sequence for multidimensional indexing is deprecated; use `arr[tuple(seq)]` instead of `arr[seq]`. In the future this will be interpreted as an array index, `arr[np.array(seq)]`, which will result either in an error or a different result.\n",
      "  return np.add.reduce(sorted[indexer] * weights, axis=axis) / sumval\n"
     ]
    },
    {
     "data": {
      "text/plain": [
       "<seaborn.axisgrid.FacetGrid at 0x1952d0f2ac8>"
      ]
     },
     "execution_count": 81,
     "metadata": {},
     "output_type": "execute_result"
    },
    {
     "data": {
      "image/png": "[encoded data removed]",
      "text/plain": [
       "<Figure size 802.75x360 with 1 Axes>"
      ]
     },
     "metadata": {
      "needs_background": "light"
     },
     "output_type": "display_data"
    }
   ],
   "source": [
    "sns.catplot(x='pickup_latitude_cut',y='trip_miles',hue='Day_of_week',kind='bar',data=df,aspect=2)"
   ]
  },
  {
   "cell_type": "code",
   "execution_count": 82,
   "metadata": {},
   "outputs": [
    {
     "data": {
      "text/plain": [
       "<seaborn.axisgrid.FacetGrid at 0x19681d4ae10>"
      ]
     },
     "execution_count": 82,
     "metadata": {},
     "output_type": "execute_result"
    },
    {
     "data": {
      "image/png": "[encoded data removed]",
      "text/plain": [
       "<Figure size 802.75x360 with 1 Axes>"
      ]
     },
     "metadata": {
      "needs_background": "light"
     },
     "output_type": "display_data"
    }
   ],
   "source": [
    "sns.catplot(x='pickup_latitude_cut',y='trip_seconds',hue='Day_of_week',kind='bar',data=df,aspect=2)"
   ]
  },
  {
   "cell_type": "code",
   "execution_count": 104,
   "metadata": {},
   "outputs": [],
   "source": [
    "dfr=df.copy()"
   ]
  },
  {
   "cell_type": "code",
   "execution_count": 105,
   "metadata": {},
   "outputs": [],
   "source": [
    "dfr=dfr[(dfr.trip_seconds!=0) & (dfr.fare!=0) & (dfr.trip_miles!=0)]\n",
    "#can't compute next things with zero in denom and also these trips don't make sense in the data anyway "
   ]
  },
  {
   "cell_type": "code",
   "execution_count": 106,
   "metadata": {},
   "outputs": [],
   "source": [
    "dfr['miles_per_sec']=dfr.trip_miles/dfr.trip_seconds"
   ]
  },
  {
   "cell_type": "code",
   "execution_count": 107,
   "metadata": {},
   "outputs": [],
   "source": [
    "dfr['revenue_per_sec']=dfr.trip_total/dfr.trip_seconds"
   ]
  },
  {
   "cell_type": "code",
   "execution_count": 108,
   "metadata": {},
   "outputs": [
    {
     "data": {
      "text/plain": [
       "pickup_latitude_cut\n",
       "(41.0, 41.75]    0.004211\n",
       "(41.75, 41.8]    0.015632\n",
       "(41.8, 41.85]    0.013578\n",
       "(41.85, 41.9]    0.005096\n",
       "(41.9, 42.0]     0.008975\n",
       "(42.0, 45.0]     0.005889\n",
       "Name: miles_per_sec, dtype: float64"
      ]
     },
     "execution_count": 108,
     "metadata": {},
     "output_type": "execute_result"
    }
   ],
   "source": [
    "dfr.groupby('pickup_latitude_cut')['miles_per_sec'].mean()"
   ]
  },
  {
   "cell_type": "markdown",
   "metadata": {},
   "source": [
    "### Revenue per sec while driving is about the same, however miles per second is about 3 times as much in south of Chicago than in Chicago probably due to traffic"
   ]
  },
  {
   "cell_type": "code",
   "execution_count": 109,
   "metadata": {},
   "outputs": [
    {
     "data": {
      "text/plain": [
       "<seaborn.axisgrid.FacetGrid at 0x1964a093d30>"
      ]
     },
     "execution_count": 109,
     "metadata": {},
     "output_type": "execute_result"
    },
    {
     "data": {
      "image/png": "[encoded data removed]",
      "text/plain": [
       "<Figure size 802.75x360 with 1 Axes>"
      ]
     },
     "metadata": {
      "needs_background": "light"
     },
     "output_type": "display_data"
    }
   ],
   "source": [
    "sns.catplot(x='pickup_latitude_cut',y='miles_per_sec',hue='Day_of_week',kind='bar',data=dfr,aspect=2)"
   ]
  },
  {
   "cell_type": "code",
   "execution_count": 110,
   "metadata": {},
   "outputs": [
    {
     "data": {
      "text/plain": [
       "<seaborn.axisgrid.FacetGrid at 0x19525081080>"
      ]
     },
     "execution_count": 110,
     "metadata": {},
     "output_type": "execute_result"
    },
    {
     "data": {
      "image/png": "[encoded data removed]",
      "text/plain": [
       "<Figure size 802.75x360 with 1 Axes>"
      ]
     },
     "metadata": {
      "needs_background": "light"
     },
     "output_type": "display_data"
    }
   ],
   "source": [
    "sns.catplot(x='pickup_latitude_cut',y='revenue_per_sec',hue='Day_of_week',kind='bar',data=dfr,aspect=2)"
   ]
  },
  {
   "cell_type": "code",
   "execution_count": 111,
   "metadata": {},
   "outputs": [
    {
     "data": {
      "text/plain": [
       "<seaborn.axisgrid.FacetGrid at 0x1964a9a6470>"
      ]
     },
     "execution_count": 111,
     "metadata": {},
     "output_type": "execute_result"
    },
    {
     "data": {
      "image/png": "[encoded data removed]",
      "text/plain": [
       "<Figure size 802.75x360 with 1 Axes>"
      ]
     },
     "metadata": {
      "needs_background": "light"
     },
     "output_type": "display_data"
    }
   ],
   "source": [
    "sns.catplot(x='pickup_latitude_cut',y='trip_total',hue='Day_of_week',kind='bar',data=dfr,aspect=2)"
   ]
  },
  {
   "attachments": {
    "image.png": {
     "image/png": "[encoded data removed]"
    }
   },
   "cell_type": "markdown",
   "metadata": {},
   "source": [
    "![image.png](attachment:image.png)"
   ]
  },
  {
   "cell_type": "code",
   "execution_count": 211,
   "metadata": {},
   "outputs": [
    {
     "data": {
      "text/html": [
       "<div>\n",
       "<style scoped>\n",
       "    .dataframe tbody tr th:only-of-type {\n",
       "        vertical-align: middle;\n",
       "    }\n",
       "\n",
       "    .dataframe tbody tr th {\n",
       "        vertical-align: top;\n",
       "    }\n",
       "\n",
       "    .dataframe thead th {\n",
       "        text-align: right;\n",
       "    }\n",
       "</style>\n",
       "<table border=\"1\" class=\"dataframe\">\n",
       "  <thead>\n",
       "    <tr style=\"text-align: right;\">\n",
       "      <th></th>\n",
       "      <th>trip_seconds</th>\n",
       "      <th>trip_miles</th>\n",
       "      <th>fare</th>\n",
       "      <th>tips</th>\n",
       "      <th>tolls</th>\n",
       "      <th>extras</th>\n",
       "      <th>trip_total</th>\n",
       "      <th>pickup_latitude</th>\n",
       "      <th>pickup_longitude</th>\n",
       "      <th>dropoff_latitude</th>\n",
       "      <th>dropoff_longitude</th>\n",
       "      <th>miles_per_sec</th>\n",
       "      <th>revenue_per_sec</th>\n",
       "    </tr>\n",
       "  </thead>\n",
       "  <tbody>\n",
       "    <tr>\n",
       "      <th>trip_seconds</th>\n",
       "      <td>1.000000</td>\n",
       "      <td>0.146204</td>\n",
       "      <td>0.492061</td>\n",
       "      <td>0.373588</td>\n",
       "      <td>0.052337</td>\n",
       "      <td>0.061618</td>\n",
       "      <td>0.456733</td>\n",
       "      <td>0.143157</td>\n",
       "      <td>-0.349346</td>\n",
       "      <td>0.099590</td>\n",
       "      <td>-0.277108</td>\n",
       "      <td>-0.005110</td>\n",
       "      <td>-0.024252</td>\n",
       "    </tr>\n",
       "    <tr>\n",
       "      <th>trip_miles</th>\n",
       "      <td>0.146204</td>\n",
       "      <td>1.000000</td>\n",
       "      <td>0.159253</td>\n",
       "      <td>0.128814</td>\n",
       "      <td>0.010130</td>\n",
       "      <td>0.026133</td>\n",
       "      <td>0.151694</td>\n",
       "      <td>0.061575</td>\n",
       "      <td>-0.134848</td>\n",
       "      <td>0.033247</td>\n",
       "      <td>-0.093489</td>\n",
       "      <td>0.093712</td>\n",
       "      <td>0.041570</td>\n",
       "    </tr>\n",
       "    <tr>\n",
       "      <th>fare</th>\n",
       "      <td>0.492061</td>\n",
       "      <td>0.159253</td>\n",
       "      <td>1.000000</td>\n",
       "      <td>0.395156</td>\n",
       "      <td>0.126310</td>\n",
       "      <td>0.080207</td>\n",
       "      <td>0.863330</td>\n",
       "      <td>0.157635</td>\n",
       "      <td>-0.382449</td>\n",
       "      <td>0.105572</td>\n",
       "      <td>-0.296665</td>\n",
       "      <td>0.017348</td>\n",
       "      <td>0.181139</td>\n",
       "    </tr>\n",
       "    <tr>\n",
       "      <th>tips</th>\n",
       "      <td>0.373588</td>\n",
       "      <td>0.128814</td>\n",
       "      <td>0.395156</td>\n",
       "      <td>1.000000</td>\n",
       "      <td>0.029002</td>\n",
       "      <td>0.088725</td>\n",
       "      <td>0.469388</td>\n",
       "      <td>0.138379</td>\n",
       "      <td>-0.404057</td>\n",
       "      <td>0.076015</td>\n",
       "      <td>-0.229659</td>\n",
       "      <td>-0.000954</td>\n",
       "      <td>0.022293</td>\n",
       "    </tr>\n",
       "    <tr>\n",
       "      <th>tolls</th>\n",
       "      <td>0.052337</td>\n",
       "      <td>0.010130</td>\n",
       "      <td>0.126310</td>\n",
       "      <td>0.029002</td>\n",
       "      <td>1.000000</td>\n",
       "      <td>0.018930</td>\n",
       "      <td>0.117353</td>\n",
       "      <td>0.024391</td>\n",
       "      <td>-0.041887</td>\n",
       "      <td>0.000096</td>\n",
       "      <td>-0.003083</td>\n",
       "      <td>0.000173</td>\n",
       "      <td>0.011397</td>\n",
       "    </tr>\n",
       "    <tr>\n",
       "      <th>extras</th>\n",
       "      <td>0.061618</td>\n",
       "      <td>0.026133</td>\n",
       "      <td>0.080207</td>\n",
       "      <td>0.088725</td>\n",
       "      <td>0.018930</td>\n",
       "      <td>1.000000</td>\n",
       "      <td>0.560255</td>\n",
       "      <td>0.047889</td>\n",
       "      <td>-0.120160</td>\n",
       "      <td>0.002274</td>\n",
       "      <td>-0.007555</td>\n",
       "      <td>0.001213</td>\n",
       "      <td>0.165034</td>\n",
       "    </tr>\n",
       "    <tr>\n",
       "      <th>trip_total</th>\n",
       "      <td>0.456733</td>\n",
       "      <td>0.151694</td>\n",
       "      <td>0.863330</td>\n",
       "      <td>0.469388</td>\n",
       "      <td>0.117353</td>\n",
       "      <td>0.560255</td>\n",
       "      <td>1.000000</td>\n",
       "      <td>0.162219</td>\n",
       "      <td>-0.403530</td>\n",
       "      <td>0.092012</td>\n",
       "      <td>-0.261152</td>\n",
       "      <td>0.013939</td>\n",
       "      <td>0.223909</td>\n",
       "    </tr>\n",
       "    <tr>\n",
       "      <th>pickup_latitude</th>\n",
       "      <td>0.143157</td>\n",
       "      <td>0.061575</td>\n",
       "      <td>0.157635</td>\n",
       "      <td>0.138379</td>\n",
       "      <td>0.024391</td>\n",
       "      <td>0.047889</td>\n",
       "      <td>0.162219</td>\n",
       "      <td>1.000000</td>\n",
       "      <td>-0.574339</td>\n",
       "      <td>0.319673</td>\n",
       "      <td>-0.111295</td>\n",
       "      <td>0.000297</td>\n",
       "      <td>0.006844</td>\n",
       "    </tr>\n",
       "    <tr>\n",
       "      <th>pickup_longitude</th>\n",
       "      <td>-0.349346</td>\n",
       "      <td>-0.134848</td>\n",
       "      <td>-0.382449</td>\n",
       "      <td>-0.404057</td>\n",
       "      <td>-0.041887</td>\n",
       "      <td>-0.120160</td>\n",
       "      <td>-0.403530</td>\n",
       "      <td>-0.574339</td>\n",
       "      <td>1.000000</td>\n",
       "      <td>-0.110881</td>\n",
       "      <td>0.081720</td>\n",
       "      <td>-0.004878</td>\n",
       "      <td>-0.017655</td>\n",
       "    </tr>\n",
       "    <tr>\n",
       "      <th>dropoff_latitude</th>\n",
       "      <td>0.099590</td>\n",
       "      <td>0.033247</td>\n",
       "      <td>0.105572</td>\n",
       "      <td>0.076015</td>\n",
       "      <td>0.000096</td>\n",
       "      <td>0.002274</td>\n",
       "      <td>0.092012</td>\n",
       "      <td>0.319673</td>\n",
       "      <td>-0.110881</td>\n",
       "      <td>1.000000</td>\n",
       "      <td>-0.496864</td>\n",
       "      <td>-0.000427</td>\n",
       "      <td>0.002920</td>\n",
       "    </tr>\n",
       "    <tr>\n",
       "      <th>dropoff_longitude</th>\n",
       "      <td>-0.277108</td>\n",
       "      <td>-0.093489</td>\n",
       "      <td>-0.296665</td>\n",
       "      <td>-0.229659</td>\n",
       "      <td>-0.003083</td>\n",
       "      <td>-0.007555</td>\n",
       "      <td>-0.261152</td>\n",
       "      <td>-0.111295</td>\n",
       "      <td>0.081720</td>\n",
       "      <td>-0.496864</td>\n",
       "      <td>1.000000</td>\n",
       "      <td>-0.005000</td>\n",
       "      <td>-0.010164</td>\n",
       "    </tr>\n",
       "    <tr>\n",
       "      <th>miles_per_sec</th>\n",
       "      <td>-0.005110</td>\n",
       "      <td>0.093712</td>\n",
       "      <td>0.017348</td>\n",
       "      <td>-0.000954</td>\n",
       "      <td>0.000173</td>\n",
       "      <td>0.001213</td>\n",
       "      <td>0.013939</td>\n",
       "      <td>0.000297</td>\n",
       "      <td>-0.004878</td>\n",
       "      <td>-0.000427</td>\n",
       "      <td>-0.005000</td>\n",
       "      <td>1.000000</td>\n",
       "      <td>0.750550</td>\n",
       "    </tr>\n",
       "    <tr>\n",
       "      <th>revenue_per_sec</th>\n",
       "      <td>-0.024252</td>\n",
       "      <td>0.041570</td>\n",
       "      <td>0.181139</td>\n",
       "      <td>0.022293</td>\n",
       "      <td>0.011397</td>\n",
       "      <td>0.165034</td>\n",
       "      <td>0.223909</td>\n",
       "      <td>0.006844</td>\n",
       "      <td>-0.017655</td>\n",
       "      <td>0.002920</td>\n",
       "      <td>-0.010164</td>\n",
       "      <td>0.750550</td>\n",
       "      <td>1.000000</td>\n",
       "    </tr>\n",
       "  </tbody>\n",
       "</table>\n",
       "</div>"
      ],
      "text/plain": [
       "                   trip_seconds  trip_miles      fare      tips     tolls  \\\n",
       "trip_seconds           1.000000    0.146204  0.492061  0.373588  0.052337   \n",
       "trip_miles             0.146204    1.000000  0.159253  0.128814  0.010130   \n",
       "fare                   0.492061    0.159253  1.000000  0.395156  0.126310   \n",
       "tips                   0.373588    0.128814  0.395156  1.000000  0.029002   \n",
       "tolls                  0.052337    0.010130  0.126310  0.029002  1.000000   \n",
       "extras                 0.061618    0.026133  0.080207  0.088725  0.018930   \n",
       "trip_total             0.456733    0.151694  0.863330  0.469388  0.117353   \n",
       "pickup_latitude        0.143157    0.061575  0.157635  0.138379  0.024391   \n",
       "pickup_longitude      -0.349346   -0.134848 -0.382449 -0.404057 -0.041887   \n",
       "dropoff_latitude       0.099590    0.033247  0.105572  0.076015  0.000096   \n",
       "dropoff_longitude     -0.277108   -0.093489 -0.296665 -0.229659 -0.003083   \n",
       "miles_per_sec         -0.005110    0.093712  0.017348 -0.000954  0.000173   \n",
       "revenue_per_sec       -0.024252    0.041570  0.181139  0.022293  0.011397   \n",
       "\n",
       "                     extras  trip_total  pickup_latitude  pickup_longitude  \\\n",
       "trip_seconds       0.061618    0.456733         0.143157         -0.349346   \n",
       "trip_miles         0.026133    0.151694         0.061575         -0.134848   \n",
       "fare               0.080207    0.863330         0.157635         -0.382449   \n",
       "tips               0.088725    0.469388         0.138379         -0.404057   \n",
       "tolls              0.018930    0.117353         0.024391         -0.041887   \n",
       "extras             1.000000    0.560255         0.047889         -0.120160   \n",
       "trip_total         0.560255    1.000000         0.162219         -0.403530   \n",
       "pickup_latitude    0.047889    0.162219         1.000000         -0.574339   \n",
       "pickup_longitude  -0.120160   -0.403530        -0.574339          1.000000   \n",
       "dropoff_latitude   0.002274    0.092012         0.319673         -0.110881   \n",
       "dropoff_longitude -0.007555   -0.261152        -0.111295          0.081720   \n",
       "miles_per_sec      0.001213    0.013939         0.000297         -0.004878   \n",
       "revenue_per_sec    0.165034    0.223909         0.006844         -0.017655   \n",
       "\n",
       "                   dropoff_latitude  dropoff_longitude  miles_per_sec  \\\n",
       "trip_seconds               0.099590          -0.277108      -0.005110   \n",
       "trip_miles                 0.033247          -0.093489       0.093712   \n",
       "fare                       0.105572          -0.296665       0.017348   \n",
       "tips                       0.076015          -0.229659      -0.000954   \n",
       "tolls                      0.000096          -0.003083       0.000173   \n",
       "extras                     0.002274          -0.007555       0.001213   \n",
       "trip_total                 0.092012          -0.261152       0.013939   \n",
       "pickup_latitude            0.319673          -0.111295       0.000297   \n",
       "pickup_longitude          -0.110881           0.081720      -0.004878   \n",
       "dropoff_latitude           1.000000          -0.496864      -0.000427   \n",
       "dropoff_longitude         -0.496864           1.000000      -0.005000   \n",
       "miles_per_sec             -0.000427          -0.005000       1.000000   \n",
       "revenue_per_sec            0.002920          -0.010164       0.750550   \n",
       "\n",
       "                   revenue_per_sec  \n",
       "trip_seconds             -0.024252  \n",
       "trip_miles                0.041570  \n",
       "fare                      0.181139  \n",
       "tips                      0.022293  \n",
       "tolls                     0.011397  \n",
       "extras                    0.165034  \n",
       "trip_total                0.223909  \n",
       "pickup_latitude           0.006844  \n",
       "pickup_longitude         -0.017655  \n",
       "dropoff_latitude          0.002920  \n",
       "dropoff_longitude        -0.010164  \n",
       "miles_per_sec             0.750550  \n",
       "revenue_per_sec           1.000000  "
      ]
     },
     "execution_count": 211,
     "metadata": {},
     "output_type": "execute_result"
    }
   ],
   "source": [
    "dfr.corr()"
   ]
  },
  {
   "cell_type": "markdown",
   "metadata": {},
   "source": [
    "### By utilizing the above information found on chicago.gov site, we can figure out how important each attribute is to how much money one cab driver can make"
   ]
  },
  {
   "cell_type": "code",
   "execution_count": 112,
   "metadata": {},
   "outputs": [
    {
     "data": {
      "text/plain": [
       "pickup_latitude_cut\n",
       "(41.0, 41.75]    1151.425278\n",
       "(41.75, 41.8]    1738.547708\n",
       "(41.8, 41.85]    1117.709333\n",
       "(41.85, 41.9]     725.941954\n",
       "(41.9, 42.0]     1055.988029\n",
       "(42.0, 45.0]      947.337165\n",
       "Name: trip_seconds, dtype: float64"
      ]
     },
     "execution_count": 112,
     "metadata": {},
     "output_type": "execute_result"
    }
   ],
   "source": [
    "dfr.groupby('pickup_latitude_cut')['trip_seconds'].mean()"
   ]
  },
  {
   "cell_type": "code",
   "execution_count": 113,
   "metadata": {},
   "outputs": [
    {
     "data": {
      "text/plain": [
       "pickup_latitude_cut\n",
       "(41.0, 41.75]     5.102925\n",
       "(41.75, 41.8]    10.766452\n",
       "(41.8, 41.85]     5.206710\n",
       "(41.85, 41.9]     3.070094\n",
       "(41.9, 42.0]      6.214986\n",
       "(42.0, 45.0]      3.978511\n",
       "Name: trip_miles, dtype: float64"
      ]
     },
     "execution_count": 113,
     "metadata": {},
     "output_type": "execute_result"
    }
   ],
   "source": [
    "dfr.groupby('pickup_latitude_cut')['trip_miles'].mean()"
   ]
  },
  {
   "cell_type": "code",
   "execution_count": 114,
   "metadata": {},
   "outputs": [
    {
     "name": "stdout",
     "output_type": "stream",
     "text": [
      "The amount of rides one driver can do in Chicago versus south is 2.446685878962536\n",
      "The base rate amount for one ride south of Chicago is 3.25\n",
      "The base rate amount for one ride in Chicago for as many trips as south of Chicago is 7.9517291066282425\n"
     ]
    }
   ],
   "source": [
    "print ('The amount of rides one driver can do in Chicago versus south is ' + str(1698/694))\n",
    "print ('The base rate amount for one ride south of Chicago is 3.25')\n",
    "print ('The base rate amount for one ride in Chicago for as many trips as south of Chicago is ' + str(1698/694*3.25))\n"
   ]
  },
  {
   "cell_type": "code",
   "execution_count": 115,
   "metadata": {
    "scrolled": true
   },
   "outputs": [
    {
     "name": "stdout",
     "output_type": "stream",
     "text": [
      "The amount made total from miles south of Chicago would be 21.464999999999996\n",
      "The amount made total from miles in Chicago would be 5.602500000000001\n"
     ]
    }
   ],
   "source": [
    "print ('The amount made total from miles south of Chicago would be ' + str(9.54*2.25))\n",
    "print ('The amount made total from miles in Chicago would be ' + str(2.49*2.25))"
   ]
  },
  {
   "cell_type": "code",
   "execution_count": 116,
   "metadata": {},
   "outputs": [
    {
     "name": "stdout",
     "output_type": "stream",
     "text": [
      "The amount made total from trip seconds south of Chicago would be 9.435161111111112\n",
      "The amount made total from trip seconds in Chicago would be 3.861\n"
     ]
    }
   ],
   "source": [
    "print ('The amount made total from trip seconds south of Chicago would be ' + str(1698.329/36*.2))\n",
    "print ('The amount made total from trip seconds in Chicago would be ' + str(694.98/36*.2))"
   ]
  },
  {
   "cell_type": "code",
   "execution_count": 117,
   "metadata": {},
   "outputs": [
    {
     "name": "stdout",
     "output_type": "stream",
     "text": [
      "Most one could make in one trip on average south of Chicago is 34.115\n",
      "Most one could make in Chicago on average compared to one trip south of Chicago is 17.41\n"
     ]
    }
   ],
   "source": [
    "print ('Most one could make in one trip on average south of Chicago is ' + str(3.25+21.465+9.4))\n",
    "print ('Most one could make in Chicago on average compared to one trip south of Chicago is ' + str(7.95+5.6+3.86))"
   ]
  },
  {
   "cell_type": "markdown",
   "metadata": {},
   "source": [
    "### Traveling many miles fast is the best"
   ]
  },
  {
   "cell_type": "markdown",
   "metadata": {},
   "source": [
    "## Finding"
   ]
  },
  {
   "cell_type": "markdown",
   "metadata": {},
   "source": [
    "Based on Chicago Taxi Cab Data most business is in Chicago, but can make much more per ride south of Chicago (about double based on rates). Also, day of week seems to have little effect"
   ]
  },
  {
   "cell_type": "markdown",
   "metadata": {},
   "source": [
    "## Insight"
   ]
  },
  {
   "cell_type": "markdown",
   "metadata": {},
   "source": [
    "Large companies should stay in Chicago to maximize business opportunties due to many people. However, because long trips mainly occur south of Chicago and they are usually pretty fast, individual cab drivers may want to begin their trips South of Chicago to maximize total profit."
   ]
  },
  {
   "cell_type": "markdown",
   "metadata": {},
   "source": [
    "# Finding 2- Taxi Efficiency Based on Time of Day "
   ]
  },
  {
   "cell_type": "code",
   "execution_count": 118,
   "metadata": {},
   "outputs": [
    {
     "data": {
      "text/html": [
       "<div>\n",
       "<style scoped>\n",
       "    .dataframe tbody tr th:only-of-type {\n",
       "        vertical-align: middle;\n",
       "    }\n",
       "\n",
       "    .dataframe tbody tr th {\n",
       "        vertical-align: top;\n",
       "    }\n",
       "\n",
       "    .dataframe thead th {\n",
       "        text-align: right;\n",
       "    }\n",
       "</style>\n",
       "<table border=\"1\" class=\"dataframe\">\n",
       "  <thead>\n",
       "    <tr style=\"text-align: right;\">\n",
       "      <th></th>\n",
       "      <th>taxi_id</th>\n",
       "      <th>trip_start_timestamp</th>\n",
       "      <th>trip_end_timestamp</th>\n",
       "      <th>trip_seconds</th>\n",
       "      <th>trip_miles</th>\n",
       "      <th>pickup_community_area</th>\n",
       "      <th>dropoff_community_area</th>\n",
       "      <th>fare</th>\n",
       "      <th>tips</th>\n",
       "      <th>tolls</th>\n",
       "      <th>...</th>\n",
       "      <th>pickup_longitude</th>\n",
       "      <th>dropoff_latitude</th>\n",
       "      <th>dropoff_longitude</th>\n",
       "      <th>date_start</th>\n",
       "      <th>time_start</th>\n",
       "      <th>date_end</th>\n",
       "      <th>time_end</th>\n",
       "      <th>Day_of_week</th>\n",
       "      <th>geometry</th>\n",
       "      <th>pickup_latitude_cut</th>\n",
       "    </tr>\n",
       "  </thead>\n",
       "  <tbody>\n",
       "    <tr>\n",
       "      <th>0</th>\n",
       "      <td>4016</td>\n",
       "      <td>2016-2-13 17:15:00</td>\n",
       "      <td>2016-2-13 17:45:00</td>\n",
       "      <td>1080.0</td>\n",
       "      <td>2.8</td>\n",
       "      <td>8</td>\n",
       "      <td>28</td>\n",
       "      <td>12.75</td>\n",
       "      <td>2.0</td>\n",
       "      <td>0.0</td>\n",
       "      <td>...</td>\n",
       "      <td>-87.626215</td>\n",
       "      <td>41.879255</td>\n",
       "      <td>-87.642649</td>\n",
       "      <td>2016-2-13</td>\n",
       "      <td>17:15:00</td>\n",
       "      <td>2016-2-13</td>\n",
       "      <td>17:45:00</td>\n",
       "      <td>Weekend</td>\n",
       "      <td>POINT (-87.642648998 41.879255084)</td>\n",
       "      <td>(41.85, 41.9]</td>\n",
       "    </tr>\n",
       "    <tr>\n",
       "      <th>1</th>\n",
       "      <td>4387</td>\n",
       "      <td>2016-6-16 20:30:00</td>\n",
       "      <td>2016-6-16 20:30:00</td>\n",
       "      <td>300.0</td>\n",
       "      <td>0.5</td>\n",
       "      <td>24</td>\n",
       "      <td>24</td>\n",
       "      <td>5.00</td>\n",
       "      <td>0.0</td>\n",
       "      <td>0.0</td>\n",
       "      <td>...</td>\n",
       "      <td>-87.670945</td>\n",
       "      <td>41.906026</td>\n",
       "      <td>-87.675312</td>\n",
       "      <td>2016-6-16</td>\n",
       "      <td>20:30:00</td>\n",
       "      <td>2016-6-16</td>\n",
       "      <td>20:30:00</td>\n",
       "      <td>Weekday</td>\n",
       "      <td>POINT (-87.675311622 41.906025969)</td>\n",
       "      <td>(41.9, 42.0]</td>\n",
       "    </tr>\n",
       "    <tr>\n",
       "      <th>2</th>\n",
       "      <td>4865</td>\n",
       "      <td>2016-7-14 15:45:00</td>\n",
       "      <td>2016-7-14 16:15:00</td>\n",
       "      <td>2340.0</td>\n",
       "      <td>11.0</td>\n",
       "      <td>28</td>\n",
       "      <td>56</td>\n",
       "      <td>30.50</td>\n",
       "      <td>6.2</td>\n",
       "      <td>0.0</td>\n",
       "      <td>...</td>\n",
       "      <td>-87.642649</td>\n",
       "      <td>41.785999</td>\n",
       "      <td>-87.750934</td>\n",
       "      <td>2016-7-14</td>\n",
       "      <td>15:45:00</td>\n",
       "      <td>2016-7-14</td>\n",
       "      <td>16:15:00</td>\n",
       "      <td>Weekday</td>\n",
       "      <td>POINT (-87.750934289 41.785998518)</td>\n",
       "      <td>(41.85, 41.9]</td>\n",
       "    </tr>\n",
       "    <tr>\n",
       "      <th>3</th>\n",
       "      <td>727</td>\n",
       "      <td>2016-3-14 03:00:00</td>\n",
       "      <td>2016-3-14 03:00:00</td>\n",
       "      <td>420.0</td>\n",
       "      <td>0.0</td>\n",
       "      <td>6</td>\n",
       "      <td>3</td>\n",
       "      <td>7.50</td>\n",
       "      <td>0.0</td>\n",
       "      <td>0.0</td>\n",
       "      <td>...</td>\n",
       "      <td>-87.655998</td>\n",
       "      <td>41.965812</td>\n",
       "      <td>-87.655879</td>\n",
       "      <td>2016-3-14</td>\n",
       "      <td>03:00:00</td>\n",
       "      <td>2016-3-14</td>\n",
       "      <td>03:00:00</td>\n",
       "      <td>Weekday</td>\n",
       "      <td>POINT (-87.655878786 41.96581197)</td>\n",
       "      <td>(41.9, 42.0]</td>\n",
       "    </tr>\n",
       "    <tr>\n",
       "      <th>4</th>\n",
       "      <td>2452</td>\n",
       "      <td>2016-11-16 21:15:00</td>\n",
       "      <td>2016-11-16 21:15:00</td>\n",
       "      <td>600.0</td>\n",
       "      <td>1.6</td>\n",
       "      <td>Unknown</td>\n",
       "      <td>Unknown</td>\n",
       "      <td>8.25</td>\n",
       "      <td>3.0</td>\n",
       "      <td>0.0</td>\n",
       "      <td>...</td>\n",
       "      <td>-87.659032</td>\n",
       "      <td>41.900886</td>\n",
       "      <td>-87.653736</td>\n",
       "      <td>2016-11-16</td>\n",
       "      <td>21:15:00</td>\n",
       "      <td>2016-11-16</td>\n",
       "      <td>21:15:00</td>\n",
       "      <td>Weekday</td>\n",
       "      <td>POINT (-87.65373579490085 41.90088553772139)</td>\n",
       "      <td>(41.9, 42.0]</td>\n",
       "    </tr>\n",
       "  </tbody>\n",
       "</table>\n",
       "<p>5 rows × 25 columns</p>\n",
       "</div>"
      ],
      "text/plain": [
       "  taxi_id trip_start_timestamp   trip_end_timestamp  trip_seconds  trip_miles  \\\n",
       "0    4016   2016-2-13 17:15:00   2016-2-13 17:45:00        1080.0         2.8   \n",
       "1    4387   2016-6-16 20:30:00   2016-6-16 20:30:00         300.0         0.5   \n",
       "2    4865   2016-7-14 15:45:00   2016-7-14 16:15:00        2340.0        11.0   \n",
       "3     727   2016-3-14 03:00:00   2016-3-14 03:00:00         420.0         0.0   \n",
       "4    2452  2016-11-16 21:15:00  2016-11-16 21:15:00         600.0         1.6   \n",
       "\n",
       "  pickup_community_area dropoff_community_area   fare  tips  tolls  \\\n",
       "0                     8                     28  12.75   2.0    0.0   \n",
       "1                    24                     24   5.00   0.0    0.0   \n",
       "2                    28                     56  30.50   6.2    0.0   \n",
       "3                     6                      3   7.50   0.0    0.0   \n",
       "4               Unknown                Unknown   8.25   3.0    0.0   \n",
       "\n",
       "          ...          pickup_longitude  dropoff_latitude dropoff_longitude  \\\n",
       "0         ...                -87.626215         41.879255        -87.642649   \n",
       "1         ...                -87.670945         41.906026        -87.675312   \n",
       "2         ...                -87.642649         41.785999        -87.750934   \n",
       "3         ...                -87.655998         41.965812        -87.655879   \n",
       "4         ...                -87.659032         41.900886        -87.653736   \n",
       "\n",
       "   date_start  time_start    date_end  time_end  Day_of_week  \\\n",
       "0   2016-2-13    17:15:00   2016-2-13  17:45:00      Weekend   \n",
       "1   2016-6-16    20:30:00   2016-6-16  20:30:00      Weekday   \n",
       "2   2016-7-14    15:45:00   2016-7-14  16:15:00      Weekday   \n",
       "3   2016-3-14    03:00:00   2016-3-14  03:00:00      Weekday   \n",
       "4  2016-11-16    21:15:00  2016-11-16  21:15:00      Weekday   \n",
       "\n",
       "                                       geometry pickup_latitude_cut  \n",
       "0            POINT (-87.642648998 41.879255084)       (41.85, 41.9]  \n",
       "1            POINT (-87.675311622 41.906025969)        (41.9, 42.0]  \n",
       "2            POINT (-87.750934289 41.785998518)       (41.85, 41.9]  \n",
       "3             POINT (-87.655878786 41.96581197)        (41.9, 42.0]  \n",
       "4  POINT (-87.65373579490085 41.90088553772139)        (41.9, 42.0]  \n",
       "\n",
       "[5 rows x 25 columns]"
      ]
     },
     "execution_count": 118,
     "metadata": {},
     "output_type": "execute_result"
    }
   ],
   "source": [
    "df.head()"
   ]
  },
  {
   "cell_type": "markdown",
   "metadata": {},
   "source": [
    "Prepare dummies for time of day"
   ]
  },
  {
   "cell_type": "code",
   "execution_count": 119,
   "metadata": {},
   "outputs": [],
   "source": [
    "dft=df.copy()"
   ]
  },
  {
   "cell_type": "code",
   "execution_count": 120,
   "metadata": {},
   "outputs": [],
   "source": [
    "dft['starthour']=dft.time_start.str[0:2]"
   ]
  },
  {
   "cell_type": "code",
   "execution_count": 121,
   "metadata": {},
   "outputs": [],
   "source": [
    "dft['starthour'] = dft.starthour.astype(int)"
   ]
  },
  {
   "cell_type": "code",
   "execution_count": 122,
   "metadata": {},
   "outputs": [],
   "source": [
    "dft['time_0-6'] = dft.starthour.apply(lambda x: 1.0 if x<=6 else 0.0)"
   ]
  },
  {
   "cell_type": "code",
   "execution_count": 123,
   "metadata": {},
   "outputs": [],
   "source": [
    "dft['time_6-12'] = dft.starthour.apply(lambda x: 1.0 if (x<=12 & x>6) else 0.0)"
   ]
  },
  {
   "cell_type": "code",
   "execution_count": 124,
   "metadata": {},
   "outputs": [],
   "source": [
    "dft['time_12-18'] = dft.starthour.apply(lambda x: 1.0 if (x<=18 & x>12) else 0.0)"
   ]
  },
  {
   "cell_type": "code",
   "execution_count": 125,
   "metadata": {},
   "outputs": [],
   "source": [
    "dft['time_18-24'] = dft.starthour.apply(lambda x: 1.0 if x>18 else 0.0)"
   ]
  },
  {
   "cell_type": "code",
   "execution_count": 126,
   "metadata": {},
   "outputs": [
    {
     "data": {
      "text/html": [
       "<div>\n",
       "<style scoped>\n",
       "    .dataframe tbody tr th:only-of-type {\n",
       "        vertical-align: middle;\n",
       "    }\n",
       "\n",
       "    .dataframe tbody tr th {\n",
       "        vertical-align: top;\n",
       "    }\n",
       "\n",
       "    .dataframe thead th {\n",
       "        text-align: right;\n",
       "    }\n",
       "</style>\n",
       "<table border=\"1\" class=\"dataframe\">\n",
       "  <thead>\n",
       "    <tr style=\"text-align: right;\">\n",
       "      <th></th>\n",
       "      <th>taxi_id</th>\n",
       "      <th>trip_start_timestamp</th>\n",
       "      <th>trip_end_timestamp</th>\n",
       "      <th>trip_seconds</th>\n",
       "      <th>trip_miles</th>\n",
       "      <th>pickup_community_area</th>\n",
       "      <th>dropoff_community_area</th>\n",
       "      <th>fare</th>\n",
       "      <th>tips</th>\n",
       "      <th>tolls</th>\n",
       "      <th>...</th>\n",
       "      <th>date_end</th>\n",
       "      <th>time_end</th>\n",
       "      <th>Day_of_week</th>\n",
       "      <th>geometry</th>\n",
       "      <th>pickup_latitude_cut</th>\n",
       "      <th>starthour</th>\n",
       "      <th>time_0-6</th>\n",
       "      <th>time_6-12</th>\n",
       "      <th>time_12-18</th>\n",
       "      <th>time_18-24</th>\n",
       "    </tr>\n",
       "  </thead>\n",
       "  <tbody>\n",
       "    <tr>\n",
       "      <th>0</th>\n",
       "      <td>4016</td>\n",
       "      <td>2016-2-13 17:15:00</td>\n",
       "      <td>2016-2-13 17:45:00</td>\n",
       "      <td>1080.0</td>\n",
       "      <td>2.8</td>\n",
       "      <td>8</td>\n",
       "      <td>28</td>\n",
       "      <td>12.75</td>\n",
       "      <td>2.0</td>\n",
       "      <td>0.0</td>\n",
       "      <td>...</td>\n",
       "      <td>2016-2-13</td>\n",
       "      <td>17:45:00</td>\n",
       "      <td>Weekend</td>\n",
       "      <td>POINT (-87.642648998 41.879255084)</td>\n",
       "      <td>(41.85, 41.9]</td>\n",
       "      <td>17</td>\n",
       "      <td>0.0</td>\n",
       "      <td>0.0</td>\n",
       "      <td>0.0</td>\n",
       "      <td>0.0</td>\n",
       "    </tr>\n",
       "    <tr>\n",
       "      <th>1</th>\n",
       "      <td>4387</td>\n",
       "      <td>2016-6-16 20:30:00</td>\n",
       "      <td>2016-6-16 20:30:00</td>\n",
       "      <td>300.0</td>\n",
       "      <td>0.5</td>\n",
       "      <td>24</td>\n",
       "      <td>24</td>\n",
       "      <td>5.00</td>\n",
       "      <td>0.0</td>\n",
       "      <td>0.0</td>\n",
       "      <td>...</td>\n",
       "      <td>2016-6-16</td>\n",
       "      <td>20:30:00</td>\n",
       "      <td>Weekday</td>\n",
       "      <td>POINT (-87.675311622 41.906025969)</td>\n",
       "      <td>(41.9, 42.0]</td>\n",
       "      <td>20</td>\n",
       "      <td>0.0</td>\n",
       "      <td>0.0</td>\n",
       "      <td>0.0</td>\n",
       "      <td>1.0</td>\n",
       "    </tr>\n",
       "    <tr>\n",
       "      <th>2</th>\n",
       "      <td>4865</td>\n",
       "      <td>2016-7-14 15:45:00</td>\n",
       "      <td>2016-7-14 16:15:00</td>\n",
       "      <td>2340.0</td>\n",
       "      <td>11.0</td>\n",
       "      <td>28</td>\n",
       "      <td>56</td>\n",
       "      <td>30.50</td>\n",
       "      <td>6.2</td>\n",
       "      <td>0.0</td>\n",
       "      <td>...</td>\n",
       "      <td>2016-7-14</td>\n",
       "      <td>16:15:00</td>\n",
       "      <td>Weekday</td>\n",
       "      <td>POINT (-87.750934289 41.785998518)</td>\n",
       "      <td>(41.85, 41.9]</td>\n",
       "      <td>15</td>\n",
       "      <td>0.0</td>\n",
       "      <td>0.0</td>\n",
       "      <td>0.0</td>\n",
       "      <td>0.0</td>\n",
       "    </tr>\n",
       "    <tr>\n",
       "      <th>3</th>\n",
       "      <td>727</td>\n",
       "      <td>2016-3-14 03:00:00</td>\n",
       "      <td>2016-3-14 03:00:00</td>\n",
       "      <td>420.0</td>\n",
       "      <td>0.0</td>\n",
       "      <td>6</td>\n",
       "      <td>3</td>\n",
       "      <td>7.50</td>\n",
       "      <td>0.0</td>\n",
       "      <td>0.0</td>\n",
       "      <td>...</td>\n",
       "      <td>2016-3-14</td>\n",
       "      <td>03:00:00</td>\n",
       "      <td>Weekday</td>\n",
       "      <td>POINT (-87.655878786 41.96581197)</td>\n",
       "      <td>(41.9, 42.0]</td>\n",
       "      <td>3</td>\n",
       "      <td>1.0</td>\n",
       "      <td>0.0</td>\n",
       "      <td>0.0</td>\n",
       "      <td>0.0</td>\n",
       "    </tr>\n",
       "    <tr>\n",
       "      <th>4</th>\n",
       "      <td>2452</td>\n",
       "      <td>2016-11-16 21:15:00</td>\n",
       "      <td>2016-11-16 21:15:00</td>\n",
       "      <td>600.0</td>\n",
       "      <td>1.6</td>\n",
       "      <td>Unknown</td>\n",
       "      <td>Unknown</td>\n",
       "      <td>8.25</td>\n",
       "      <td>3.0</td>\n",
       "      <td>0.0</td>\n",
       "      <td>...</td>\n",
       "      <td>2016-11-16</td>\n",
       "      <td>21:15:00</td>\n",
       "      <td>Weekday</td>\n",
       "      <td>POINT (-87.65373579490085 41.90088553772139)</td>\n",
       "      <td>(41.9, 42.0]</td>\n",
       "      <td>21</td>\n",
       "      <td>0.0</td>\n",
       "      <td>0.0</td>\n",
       "      <td>0.0</td>\n",
       "      <td>1.0</td>\n",
       "    </tr>\n",
       "  </tbody>\n",
       "</table>\n",
       "<p>5 rows × 30 columns</p>\n",
       "</div>"
      ],
      "text/plain": [
       "  taxi_id trip_start_timestamp   trip_end_timestamp  trip_seconds  trip_miles  \\\n",
       "0    4016   2016-2-13 17:15:00   2016-2-13 17:45:00        1080.0         2.8   \n",
       "1    4387   2016-6-16 20:30:00   2016-6-16 20:30:00         300.0         0.5   \n",
       "2    4865   2016-7-14 15:45:00   2016-7-14 16:15:00        2340.0        11.0   \n",
       "3     727   2016-3-14 03:00:00   2016-3-14 03:00:00         420.0         0.0   \n",
       "4    2452  2016-11-16 21:15:00  2016-11-16 21:15:00         600.0         1.6   \n",
       "\n",
       "  pickup_community_area dropoff_community_area   fare  tips  tolls    ...      \\\n",
       "0                     8                     28  12.75   2.0    0.0    ...       \n",
       "1                    24                     24   5.00   0.0    0.0    ...       \n",
       "2                    28                     56  30.50   6.2    0.0    ...       \n",
       "3                     6                      3   7.50   0.0    0.0    ...       \n",
       "4               Unknown                Unknown   8.25   3.0    0.0    ...       \n",
       "\n",
       "     date_end  time_end Day_of_week  \\\n",
       "0   2016-2-13  17:45:00     Weekend   \n",
       "1   2016-6-16  20:30:00     Weekday   \n",
       "2   2016-7-14  16:15:00     Weekday   \n",
       "3   2016-3-14  03:00:00     Weekday   \n",
       "4  2016-11-16  21:15:00     Weekday   \n",
       "\n",
       "                                       geometry  pickup_latitude_cut  \\\n",
       "0            POINT (-87.642648998 41.879255084)        (41.85, 41.9]   \n",
       "1            POINT (-87.675311622 41.906025969)         (41.9, 42.0]   \n",
       "2            POINT (-87.750934289 41.785998518)        (41.85, 41.9]   \n",
       "3             POINT (-87.655878786 41.96581197)         (41.9, 42.0]   \n",
       "4  POINT (-87.65373579490085 41.90088553772139)         (41.9, 42.0]   \n",
       "\n",
       "   starthour  time_0-6  time_6-12 time_12-18 time_18-24  \n",
       "0         17       0.0        0.0        0.0        0.0  \n",
       "1         20       0.0        0.0        0.0        1.0  \n",
       "2         15       0.0        0.0        0.0        0.0  \n",
       "3          3       1.0        0.0        0.0        0.0  \n",
       "4         21       0.0        0.0        0.0        1.0  \n",
       "\n",
       "[5 rows x 30 columns]"
      ]
     },
     "execution_count": 126,
     "metadata": {},
     "output_type": "execute_result"
    }
   ],
   "source": [
    "dft.head()"
   ]
  },
  {
   "cell_type": "markdown",
   "metadata": {},
   "source": [
    "Prepare for clustering analysis"
   ]
  },
  {
   "cell_type": "code",
   "execution_count": 127,
   "metadata": {},
   "outputs": [],
   "source": [
    "from sklearn.cluster import KMeans"
   ]
  },
  {
   "cell_type": "code",
   "execution_count": 128,
   "metadata": {},
   "outputs": [],
   "source": [
    "clu = KMeans(n_clusters=3, random_state=0, max_iter=3000)"
   ]
  },
  {
   "cell_type": "code",
   "execution_count": 130,
   "metadata": {},
   "outputs": [],
   "source": [
    "dft=dft.drop(['taxi_id','trip_start_timestamp','trip_end_timestamp','pickup_community_area','dropoff_community_area',\\\n",
    "         'payment_type','company','pickup_latitude','pickup_longitude','dropoff_latitude','dropoff_longitude',\\\n",
    "         'date_start', 'time_start', 'date_end', 'time_end',\\\n",
    "        'Day_of_week', 'geometry', 'pickup_latitude_cut'],axis=1)"
   ]
  },
  {
   "cell_type": "code",
   "execution_count": 131,
   "metadata": {},
   "outputs": [],
   "source": [
    "dft=dft[(dft.trip_seconds!=0) & (dft.fare!=0)]\n",
    "#can't compute next items with zero in denom"
   ]
  },
  {
   "cell_type": "markdown",
   "metadata": {},
   "source": [
    "Create variable for whether or not a customer tips"
   ]
  },
  {
   "cell_type": "code",
   "execution_count": 132,
   "metadata": {},
   "outputs": [],
   "source": [
    "dft['tipper']=dft.tips.apply(lambda x: 1.0 if x>0 else 0.0)"
   ]
  },
  {
   "cell_type": "code",
   "execution_count": 141,
   "metadata": {},
   "outputs": [
    {
     "data": {
      "text/html": [
       "<div>\n",
       "<style scoped>\n",
       "    .dataframe tbody tr th:only-of-type {\n",
       "        vertical-align: middle;\n",
       "    }\n",
       "\n",
       "    .dataframe tbody tr th {\n",
       "        vertical-align: top;\n",
       "    }\n",
       "\n",
       "    .dataframe thead th {\n",
       "        text-align: right;\n",
       "    }\n",
       "</style>\n",
       "<table border=\"1\" class=\"dataframe\">\n",
       "  <thead>\n",
       "    <tr style=\"text-align: right;\">\n",
       "      <th></th>\n",
       "      <th>trip_seconds</th>\n",
       "      <th>trip_miles</th>\n",
       "      <th>fare</th>\n",
       "      <th>tips</th>\n",
       "      <th>tolls</th>\n",
       "      <th>extras</th>\n",
       "      <th>trip_total</th>\n",
       "      <th>starthour</th>\n",
       "      <th>time_0-6</th>\n",
       "      <th>time_6-12</th>\n",
       "      <th>time_12-18</th>\n",
       "      <th>time_18-24</th>\n",
       "      <th>tipper</th>\n",
       "      <th>miles_per_sec</th>\n",
       "      <th>cluster</th>\n",
       "    </tr>\n",
       "  </thead>\n",
       "  <tbody>\n",
       "    <tr>\n",
       "      <th>0</th>\n",
       "      <td>1080.0</td>\n",
       "      <td>2.8</td>\n",
       "      <td>12.75</td>\n",
       "      <td>2.0</td>\n",
       "      <td>0.0</td>\n",
       "      <td>1.0</td>\n",
       "      <td>15.75</td>\n",
       "      <td>17</td>\n",
       "      <td>0.0</td>\n",
       "      <td>0.0</td>\n",
       "      <td>0.0</td>\n",
       "      <td>0.0</td>\n",
       "      <td>1.0</td>\n",
       "      <td>0.002593</td>\n",
       "      <td>0</td>\n",
       "    </tr>\n",
       "    <tr>\n",
       "      <th>1</th>\n",
       "      <td>300.0</td>\n",
       "      <td>0.5</td>\n",
       "      <td>5.00</td>\n",
       "      <td>0.0</td>\n",
       "      <td>0.0</td>\n",
       "      <td>1.0</td>\n",
       "      <td>6.00</td>\n",
       "      <td>20</td>\n",
       "      <td>0.0</td>\n",
       "      <td>0.0</td>\n",
       "      <td>0.0</td>\n",
       "      <td>1.0</td>\n",
       "      <td>0.0</td>\n",
       "      <td>0.001667</td>\n",
       "      <td>0</td>\n",
       "    </tr>\n",
       "    <tr>\n",
       "      <th>2</th>\n",
       "      <td>2340.0</td>\n",
       "      <td>11.0</td>\n",
       "      <td>30.50</td>\n",
       "      <td>6.2</td>\n",
       "      <td>0.0</td>\n",
       "      <td>0.0</td>\n",
       "      <td>37.20</td>\n",
       "      <td>15</td>\n",
       "      <td>0.0</td>\n",
       "      <td>0.0</td>\n",
       "      <td>0.0</td>\n",
       "      <td>0.0</td>\n",
       "      <td>1.0</td>\n",
       "      <td>0.004701</td>\n",
       "      <td>2</td>\n",
       "    </tr>\n",
       "    <tr>\n",
       "      <th>3</th>\n",
       "      <td>420.0</td>\n",
       "      <td>0.0</td>\n",
       "      <td>7.50</td>\n",
       "      <td>0.0</td>\n",
       "      <td>0.0</td>\n",
       "      <td>1.5</td>\n",
       "      <td>9.00</td>\n",
       "      <td>3</td>\n",
       "      <td>1.0</td>\n",
       "      <td>0.0</td>\n",
       "      <td>0.0</td>\n",
       "      <td>0.0</td>\n",
       "      <td>0.0</td>\n",
       "      <td>0.000000</td>\n",
       "      <td>0</td>\n",
       "    </tr>\n",
       "    <tr>\n",
       "      <th>4</th>\n",
       "      <td>600.0</td>\n",
       "      <td>1.6</td>\n",
       "      <td>8.25</td>\n",
       "      <td>3.0</td>\n",
       "      <td>0.0</td>\n",
       "      <td>1.0</td>\n",
       "      <td>12.25</td>\n",
       "      <td>21</td>\n",
       "      <td>0.0</td>\n",
       "      <td>0.0</td>\n",
       "      <td>0.0</td>\n",
       "      <td>1.0</td>\n",
       "      <td>1.0</td>\n",
       "      <td>0.002667</td>\n",
       "      <td>0</td>\n",
       "    </tr>\n",
       "  </tbody>\n",
       "</table>\n",
       "</div>"
      ],
      "text/plain": [
       "   trip_seconds  trip_miles   fare  tips  tolls  extras  trip_total  \\\n",
       "0        1080.0         2.8  12.75   2.0    0.0     1.0       15.75   \n",
       "1         300.0         0.5   5.00   0.0    0.0     1.0        6.00   \n",
       "2        2340.0        11.0  30.50   6.2    0.0     0.0       37.20   \n",
       "3         420.0         0.0   7.50   0.0    0.0     1.5        9.00   \n",
       "4         600.0         1.6   8.25   3.0    0.0     1.0       12.25   \n",
       "\n",
       "   starthour  time_0-6  time_6-12  time_12-18  time_18-24  tipper  \\\n",
       "0         17       0.0        0.0         0.0         0.0     1.0   \n",
       "1         20       0.0        0.0         0.0         1.0     0.0   \n",
       "2         15       0.0        0.0         0.0         0.0     1.0   \n",
       "3          3       1.0        0.0         0.0         0.0     0.0   \n",
       "4         21       0.0        0.0         0.0         1.0     1.0   \n",
       "\n",
       "   miles_per_sec  cluster  \n",
       "0       0.002593        0  \n",
       "1       0.001667        0  \n",
       "2       0.004701        2  \n",
       "3       0.000000        0  \n",
       "4       0.002667        0  "
      ]
     },
     "execution_count": 141,
     "metadata": {},
     "output_type": "execute_result"
    }
   ],
   "source": [
    "dft.head()"
   ]
  },
  {
   "cell_type": "markdown",
   "metadata": {},
   "source": [
    "Create efficieny variable of trip revenue/trip time"
   ]
  },
  {
   "cell_type": "code",
   "execution_count": 142,
   "metadata": {},
   "outputs": [],
   "source": [
    "dft['revenue_per_sec']=dft.trip_total/dft.trip_seconds"
   ]
  },
  {
   "cell_type": "code",
   "execution_count": 143,
   "metadata": {},
   "outputs": [],
   "source": [
    "dft['miles_per_sec']=dft.trip_miles/dft.trip_seconds"
   ]
  },
  {
   "cell_type": "code",
   "execution_count": 144,
   "metadata": {},
   "outputs": [
    {
     "data": {
      "text/plain": [
       "KMeans(algorithm='auto', copy_x=True, init='k-means++', max_iter=3000,\n",
       "    n_clusters=3, n_init=10, n_jobs=None, precompute_distances='auto',\n",
       "    random_state=0, tol=0.0001, verbose=0)"
      ]
     },
     "execution_count": 144,
     "metadata": {},
     "output_type": "execute_result"
    }
   ],
   "source": [
    "clu"
   ]
  },
  {
   "cell_type": "code",
   "execution_count": 145,
   "metadata": {},
   "outputs": [
    {
     "data": {
      "text/plain": [
       "KMeans(algorithm='auto', copy_x=True, init='k-means++', max_iter=3000,\n",
       "    n_clusters=3, n_init=10, n_jobs=None, precompute_distances='auto',\n",
       "    random_state=0, tol=0.0001, verbose=0)"
      ]
     },
     "execution_count": 145,
     "metadata": {},
     "output_type": "execute_result"
    }
   ],
   "source": [
    "clu.fit(dft)"
   ]
  },
  {
   "cell_type": "code",
   "execution_count": 146,
   "metadata": {},
   "outputs": [
    {
     "data": {
      "text/plain": [
       "array([0, 0, 2, ..., 0, 0, 0])"
      ]
     },
     "execution_count": 146,
     "metadata": {},
     "output_type": "execute_result"
    }
   ],
   "source": [
    "clu.labels_"
   ]
  },
  {
   "cell_type": "code",
   "execution_count": 147,
   "metadata": {},
   "outputs": [],
   "source": [
    "dft['cluster'] = clu.labels_"
   ]
  },
  {
   "cell_type": "code",
   "execution_count": 148,
   "metadata": {},
   "outputs": [
    {
     "data": {
      "text/html": [
       "<div>\n",
       "<style scoped>\n",
       "    .dataframe tbody tr th:only-of-type {\n",
       "        vertical-align: middle;\n",
       "    }\n",
       "\n",
       "    .dataframe tbody tr th {\n",
       "        vertical-align: top;\n",
       "    }\n",
       "\n",
       "    .dataframe thead th {\n",
       "        text-align: right;\n",
       "    }\n",
       "</style>\n",
       "<table border=\"1\" class=\"dataframe\">\n",
       "  <thead>\n",
       "    <tr style=\"text-align: right;\">\n",
       "      <th></th>\n",
       "      <th>trip_seconds</th>\n",
       "      <th>trip_miles</th>\n",
       "      <th>fare</th>\n",
       "      <th>tips</th>\n",
       "      <th>tolls</th>\n",
       "      <th>extras</th>\n",
       "      <th>trip_total</th>\n",
       "      <th>starthour</th>\n",
       "      <th>time_0-6</th>\n",
       "      <th>time_6-12</th>\n",
       "      <th>time_12-18</th>\n",
       "      <th>time_18-24</th>\n",
       "      <th>tipper</th>\n",
       "      <th>miles_per_sec</th>\n",
       "      <th>revenue_per_sec</th>\n",
       "    </tr>\n",
       "    <tr>\n",
       "      <th>cluster</th>\n",
       "      <th></th>\n",
       "      <th></th>\n",
       "      <th></th>\n",
       "      <th></th>\n",
       "      <th></th>\n",
       "      <th></th>\n",
       "      <th></th>\n",
       "      <th></th>\n",
       "      <th></th>\n",
       "      <th></th>\n",
       "      <th></th>\n",
       "      <th></th>\n",
       "      <th></th>\n",
       "      <th></th>\n",
       "      <th></th>\n",
       "    </tr>\n",
       "  </thead>\n",
       "  <tbody>\n",
       "    <tr>\n",
       "      <th>0</th>\n",
       "      <td>594.985004</td>\n",
       "      <td>2.208847</td>\n",
       "      <td>10.033706</td>\n",
       "      <td>1.082239</td>\n",
       "      <td>0.001612</td>\n",
       "      <td>0.706507</td>\n",
       "      <td>11.873733</td>\n",
       "      <td>13.664939</td>\n",
       "      <td>0.143915</td>\n",
       "      <td>0.089942</td>\n",
       "      <td>0.118803</td>\n",
       "      <td>0.276742</td>\n",
       "      <td>0.401733</td>\n",
       "      <td>0.005626</td>\n",
       "      <td>0.024912</td>\n",
       "    </tr>\n",
       "    <tr>\n",
       "      <th>1</th>\n",
       "      <td>52102.507194</td>\n",
       "      <td>13.187302</td>\n",
       "      <td>72.511583</td>\n",
       "      <td>1.132698</td>\n",
       "      <td>0.865108</td>\n",
       "      <td>0.678777</td>\n",
       "      <td>75.241223</td>\n",
       "      <td>12.082734</td>\n",
       "      <td>0.104317</td>\n",
       "      <td>0.169065</td>\n",
       "      <td>0.075540</td>\n",
       "      <td>0.118705</td>\n",
       "      <td>0.223022</td>\n",
       "      <td>0.000304</td>\n",
       "      <td>0.001663</td>\n",
       "    </tr>\n",
       "    <tr>\n",
       "      <th>2</th>\n",
       "      <td>2421.573478</td>\n",
       "      <td>13.712285</td>\n",
       "      <td>39.445912</td>\n",
       "      <td>4.991370</td>\n",
       "      <td>0.010737</td>\n",
       "      <td>3.458138</td>\n",
       "      <td>47.990896</td>\n",
       "      <td>14.413481</td>\n",
       "      <td>0.057451</td>\n",
       "      <td>0.096227</td>\n",
       "      <td>0.167396</td>\n",
       "      <td>0.212348</td>\n",
       "      <td>0.593480</td>\n",
       "      <td>0.006005</td>\n",
       "      <td>0.020996</td>\n",
       "    </tr>\n",
       "  </tbody>\n",
       "</table>\n",
       "</div>"
      ],
      "text/plain": [
       "         trip_seconds  trip_miles       fare      tips     tolls    extras  \\\n",
       "cluster                                                                      \n",
       "0          594.985004    2.208847  10.033706  1.082239  0.001612  0.706507   \n",
       "1        52102.507194   13.187302  72.511583  1.132698  0.865108  0.678777   \n",
       "2         2421.573478   13.712285  39.445912  4.991370  0.010737  3.458138   \n",
       "\n",
       "         trip_total  starthour  time_0-6  time_6-12  time_12-18  time_18-24  \\\n",
       "cluster                                                                       \n",
       "0         11.873733  13.664939  0.143915   0.089942    0.118803    0.276742   \n",
       "1         75.241223  12.082734  0.104317   0.169065    0.075540    0.118705   \n",
       "2         47.990896  14.413481  0.057451   0.096227    0.167396    0.212348   \n",
       "\n",
       "           tipper  miles_per_sec  revenue_per_sec  \n",
       "cluster                                            \n",
       "0        0.401733       0.005626         0.024912  \n",
       "1        0.223022       0.000304         0.001663  \n",
       "2        0.593480       0.006005         0.020996  "
      ]
     },
     "execution_count": 148,
     "metadata": {},
     "output_type": "execute_result"
    }
   ],
   "source": [
    "dft.groupby('cluster').mean()"
   ]
  },
  {
   "cell_type": "markdown",
   "metadata": {},
   "source": [
    "Clusters 0 and 2 have the most efficiency and have the highest portions of their rides occuring in the time 0-6 and time 18-24 slots. These slots tend to have much lower trip times and and trip times suggesting that shorter trips may be more efficient"
   ]
  },
  {
   "cell_type": "code",
   "execution_count": 149,
   "metadata": {},
   "outputs": [],
   "source": [
    "dft['rev_sec_bin']=pd.qcut(dft.revenue_per_sec, 5)"
   ]
  },
  {
   "cell_type": "code",
   "execution_count": 150,
   "metadata": {},
   "outputs": [],
   "source": [
    "dft['timebin']=pd.cut(dft.starthour, bins=[0,6,12,18,24])"
   ]
  },
  {
   "cell_type": "code",
   "execution_count": 151,
   "metadata": {},
   "outputs": [
    {
     "name": "stderr",
     "output_type": "stream",
     "text": [
      "C:\\Users\\Robby Konrath\\Documents\\Python\\lib\\site-packages\\scipy\\stats\\stats.py:1713: FutureWarning: Using a non-tuple sequence for multidimensional indexing is deprecated; use `arr[tuple(seq)]` instead of `arr[seq]`. In the future this will be interpreted as an array index, `arr[np.array(seq)]`, which will result either in an error or a different result.\n",
      "  return np.add.reduce(sorted[indexer] * weights, axis=axis) / sumval\n"
     ]
    },
    {
     "data": {
      "text/plain": [
       "<seaborn.axisgrid.FacetGrid at 0x196815ca978>"
      ]
     },
     "execution_count": 151,
     "metadata": {},
     "output_type": "execute_result"
    },
    {
     "data": {
      "image/png": "[encoded data removed]",
      "text/plain": [
       "<Figure size 360x360 with 1 Axes>"
      ]
     },
     "metadata": {
      "needs_background": "light"
     },
     "output_type": "display_data"
    }
   ],
   "source": [
    "sns.catplot(y='revenue_per_sec',x='timebin', kind='bar', data=dft)"
   ]
  },
  {
   "cell_type": "markdown",
   "metadata": {},
   "source": [
    "20% faster^"
   ]
  },
  {
   "cell_type": "code",
   "execution_count": 152,
   "metadata": {},
   "outputs": [
    {
     "data": {
      "text/plain": [
       "<seaborn.axisgrid.FacetGrid at 0x1971803b438>"
      ]
     },
     "execution_count": 152,
     "metadata": {},
     "output_type": "execute_result"
    },
    {
     "data": {
      "image/png": "[encoded data removed]",
      "text/plain": [
       "<Figure size 360x360 with 1 Axes>"
      ]
     },
     "metadata": {
      "needs_background": "light"
     },
     "output_type": "display_data"
    }
   ],
   "source": [
    "sns.catplot(y='miles_per_sec',x='timebin', kind='bar', data=dft)"
   ]
  },
  {
   "cell_type": "markdown",
   "metadata": {},
   "source": [
    "33% faster^"
   ]
  },
  {
   "cell_type": "code",
   "execution_count": 153,
   "metadata": {},
   "outputs": [
    {
     "data": {
      "text/plain": [
       "<seaborn.axisgrid.FacetGrid at 0x1965ea83ef0>"
      ]
     },
     "execution_count": 153,
     "metadata": {},
     "output_type": "execute_result"
    },
    {
     "data": {
      "image/png": "[encoded data removed]",
      "text/plain": [
       "<Figure size 360x360 with 1 Axes>"
      ]
     },
     "metadata": {
      "needs_background": "light"
     },
     "output_type": "display_data"
    }
   ],
   "source": [
    "sns.catplot(y='trip_miles',x='timebin', kind='bar', data=dft)"
   ]
  },
  {
   "cell_type": "markdown",
   "metadata": {},
   "source": [
    "^same amount of miles usually"
   ]
  },
  {
   "cell_type": "code",
   "execution_count": 154,
   "metadata": {},
   "outputs": [
    {
     "data": {
      "text/plain": [
       "<seaborn.axisgrid.FacetGrid at 0x196629f8e48>"
      ]
     },
     "execution_count": 154,
     "metadata": {},
     "output_type": "execute_result"
    },
    {
     "data": {
      "image/png": "[encoded data removed]",
      "text/plain": [
       "<Figure size 360x360 with 1 Axes>"
      ]
     },
     "metadata": {
      "needs_background": "light"
     },
     "output_type": "display_data"
    }
   ],
   "source": [
    "sns.catplot(y='trip_seconds',x='timebin', kind='bar', data=dft)"
   ]
  },
  {
   "cell_type": "markdown",
   "metadata": {},
   "source": [
    "^much faster to go those miles"
   ]
  },
  {
   "cell_type": "code",
   "execution_count": 155,
   "metadata": {},
   "outputs": [
    {
     "data": {
      "text/plain": [
       "<matplotlib.axes._subplots.AxesSubplot at 0x196627f7b00>"
      ]
     },
     "execution_count": 155,
     "metadata": {},
     "output_type": "execute_result"
    },
    {
     "data": {
      "image/png": "[encoded data removed]",
      "text/plain": [
       "<Figure size 432x288 with 1 Axes>"
      ]
     },
     "metadata": {
      "needs_background": "light"
     },
     "output_type": "display_data"
    }
   ],
   "source": [
    "sns.countplot(x='timebin',data=dft)"
   ]
  },
  {
   "cell_type": "markdown",
   "metadata": {},
   "source": [
    "### Summary"
   ]
  },
  {
   "cell_type": "markdown",
   "metadata": {},
   "source": [
    "Rides that occur between the hours of midnight to 6am and 6pm to midnight tend to be the most efficient in terms of revenue per second of ride time as well as miles per second. Miles per second is faster and rides that drive a large amount of miles fast tend to make the most as we know from finding one"
   ]
  },
  {
   "cell_type": "markdown",
   "metadata": {},
   "source": [
    "### Insight"
   ]
  },
  {
   "cell_type": "markdown",
   "metadata": {},
   "source": [
    "Taxis that want to make money most efficiently should operate between 6pm and 6am rather than more normal business hours. However, after 6 pm may be best due to volume of people out"
   ]
  },
  {
   "cell_type": "markdown",
   "metadata": {},
   "source": [
    "## Finding 3- Credit Card Users and Tips"
   ]
  },
  {
   "cell_type": "markdown",
   "metadata": {},
   "source": [
    "### Most people use cash or credit cards to pay"
   ]
  },
  {
   "cell_type": "code",
   "execution_count": 196,
   "metadata": {},
   "outputs": [
    {
     "data": {
      "text/plain": [
       "<matplotlib.axes._subplots.AxesSubplot at 0x1965f59c898>"
      ]
     },
     "execution_count": 196,
     "metadata": {},
     "output_type": "execute_result"
    },
    {
     "data": {
      "image/png": "[encoded data removed]",
      "text/plain": [
       "<Figure size 432x288 with 1 Axes>"
      ]
     },
     "metadata": {
      "needs_background": "light"
     },
     "output_type": "display_data"
    }
   ],
   "source": [
    "sns.countplot(x='payment_type',data=df)"
   ]
  },
  {
   "cell_type": "code",
   "execution_count": 188,
   "metadata": {},
   "outputs": [],
   "source": [
    "dfm=df.copy()"
   ]
  },
  {
   "cell_type": "code",
   "execution_count": 189,
   "metadata": {},
   "outputs": [],
   "source": [
    "dfm = dfm[(dfm.payment_type == 'Cash') | (dfm.payment_type == 'Credit Card')]"
   ]
  },
  {
   "cell_type": "code",
   "execution_count": 190,
   "metadata": {},
   "outputs": [],
   "source": [
    "dfm2 = dfm[['payment_type', 'trip_total', 'trip_miles','tips']]"
   ]
  },
  {
   "cell_type": "code",
   "execution_count": 191,
   "metadata": {},
   "outputs": [],
   "source": [
    "dfm2 = dfm2[dfm2.trip_miles != 0]"
   ]
  },
  {
   "cell_type": "code",
   "execution_count": 192,
   "metadata": {},
   "outputs": [],
   "source": [
    "dfm2['binned_tripmiles']=pd.qcut(dfm2.trip_miles, 5)"
   ]
  },
  {
   "cell_type": "code",
   "execution_count": 193,
   "metadata": {},
   "outputs": [
    {
     "name": "stderr",
     "output_type": "stream",
     "text": [
      "C:\\Users\\Robby Konrath\\Documents\\Python\\lib\\site-packages\\scipy\\stats\\stats.py:1713: FutureWarning: Using a non-tuple sequence for multidimensional indexing is deprecated; use `arr[tuple(seq)]` instead of `arr[seq]`. In the future this will be interpreted as an array index, `arr[np.array(seq)]`, which will result either in an error or a different result.\n",
      "  return np.add.reduce(sorted[indexer] * weights, axis=axis) / sumval\n"
     ]
    },
    {
     "data": {
      "text/plain": [
       "<seaborn.axisgrid.FacetGrid at 0x196604ae6d8>"
      ]
     },
     "execution_count": 193,
     "metadata": {},
     "output_type": "execute_result"
    },
    {
     "data": {
      "image/png": "[encoded data removed]",
      "text/plain": [
       "<Figure size 812.875x360 with 1 Axes>"
      ]
     },
     "metadata": {
      "needs_background": "light"
     },
     "output_type": "display_data"
    }
   ],
   "source": [
    "sns.catplot(y='trip_total', data=dfm2, x='binned_tripmiles', aspect=2, kind='bar', hue = 'payment_type')"
   ]
  },
  {
   "cell_type": "code",
   "execution_count": 194,
   "metadata": {
    "scrolled": false
   },
   "outputs": [
    {
     "data": {
      "text/plain": [
       "<seaborn.axisgrid.FacetGrid at 0x1965ff14898>"
      ]
     },
     "execution_count": 194,
     "metadata": {},
     "output_type": "execute_result"
    },
    {
     "data": {
      "image/png": "[encoded data removed]",
      "text/plain": [
       "<Figure size 812.875x360 with 1 Axes>"
      ]
     },
     "metadata": {
      "needs_background": "light"
     },
     "output_type": "display_data"
    }
   ],
   "source": [
    "sns.catplot(y='tips', data=dfm2, x='binned_tripmiles', aspect=2, kind='bar', hue = 'payment_type')"
   ]
  },
  {
   "cell_type": "markdown",
   "metadata": {},
   "source": [
    "#### 44% of people tip and almost all of them pay with credit card"
   ]
  },
  {
   "cell_type": "code",
   "execution_count": 204,
   "metadata": {},
   "outputs": [
    {
     "data": {
      "text/plain": [
       "0.44015399343617195"
      ]
     },
     "execution_count": 204,
     "metadata": {},
     "output_type": "execute_result"
    }
   ],
   "source": [
    "len(dfm2[dfm2.tips>0])/ len(dfm2)"
   ]
  },
  {
   "cell_type": "code",
   "execution_count": 208,
   "metadata": {},
   "outputs": [
    {
     "data": {
      "text/plain": [
       "0.4396250790065929"
      ]
     },
     "execution_count": 208,
     "metadata": {},
     "output_type": "execute_result"
    }
   ],
   "source": [
    "len(dfm2[(dfm2.tips>0) & (dfm2.payment_type=='Credit Card')])/len(dfm2)"
   ]
  },
  {
   "cell_type": "code",
   "execution_count": 210,
   "metadata": {},
   "outputs": [
    {
     "data": {
      "text/plain": [
       "665747"
      ]
     },
     "execution_count": 210,
     "metadata": {},
     "output_type": "execute_result"
    }
   ],
   "source": [
    "len(dfm2[dfm2.tips>0])"
   ]
  },
  {
   "cell_type": "code",
   "execution_count": 209,
   "metadata": {},
   "outputs": [
    {
     "data": {
      "text/plain": [
       "664947"
      ]
     },
     "execution_count": 209,
     "metadata": {},
     "output_type": "execute_result"
    }
   ],
   "source": [
    "len(dfm2[(dfm2.tips>0) & (dfm2.payment_type=='Credit Card')])"
   ]
  },
  {
   "cell_type": "markdown",
   "metadata": {},
   "source": [
    "#### 11% of total consumers tip when miles is less than 1 so they are many tips to get on shorter trips"
   ]
  },
  {
   "cell_type": "code",
   "execution_count": 205,
   "metadata": {},
   "outputs": [
    {
     "data": {
      "text/plain": [
       "0.11060261865534085"
      ]
     },
     "execution_count": 205,
     "metadata": {},
     "output_type": "execute_result"
    }
   ],
   "source": [
    "len(dfm2[(dfm2.tips>0) & (dfm2.trip_miles<1)]) / len(dfm2) "
   ]
  },
  {
   "cell_type": "code",
   "execution_count": 195,
   "metadata": {},
   "outputs": [
    {
     "data": {
      "text/plain": [
       "<seaborn.axisgrid.FacetGrid at 0x1965feaee48>"
      ]
     },
     "execution_count": 195,
     "metadata": {},
     "output_type": "execute_result"
    },
    {
     "data": {
      "image/png": "[encoded data removed]",
      "text/plain": [
       "<Figure size 720x360 with 1 Axes>"
      ]
     },
     "metadata": {
      "needs_background": "light"
     },
     "output_type": "display_data"
    }
   ],
   "source": [
    "sns.catplot(x='payment_type',y='trip_miles',kind='bar',data=dfm2,aspect=2)"
   ]
  },
  {
   "cell_type": "markdown",
   "metadata": {},
   "source": [
    "### Summary"
   ]
  },
  {
   "cell_type": "markdown",
   "metadata": {},
   "source": [
    "The first barplot shows the relationship between trip_miles and trip_total paid with hues on Credit and Cash. The trip_miles are binned with equal frequencies. Credit card payments tended to range higher than cash payments for all distances.\n",
    "\n",
    "The second barplot shows that Credit Card users tip much more than cash users. \n",
    "\n",
    "Credit card users tend to both pay more for every binned distance traveled and on average have a longer trip distance\n",
    "\n",
    "Also, credit card users may see a screen with a tip amount when swiping that could lead them to tip more"
   ]
  },
  {
   "cell_type": "markdown",
   "metadata": {},
   "source": [
    "### Insight"
   ]
  },
  {
   "cell_type": "markdown",
   "metadata": {},
   "source": [
    "This leads us to say that credit card users are more likely to tip so all taxi companies should incentivize credit card payments with some sort of discount program to capitalize on improving how much money they can make, especially on shorter ride lengths as these don't always make the most money for taxi drivers as we saw from the first finding."
   ]
  }
 ],
 "metadata": {
  "kernelspec": {
   "display_name": "Python 3",
   "language": "python",
   "name": "python3"
  },
  "language_info": {
   "codemirror_mode": {
    "name": "ipython",
    "version": 3
   },
   "file_extension": ".py",
   "mimetype": "text/x-python",
   "name": "python",
   "nbconvert_exporter": "python",
   "pygments_lexer": "ipython3",
   "version": "3.7.4"
  }
 },
 "nbformat": 4,
 "nbformat_minor": 2
}
